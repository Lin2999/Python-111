{
 "cells": [
  {
   "cell_type": "code",
   "execution_count": 1,
   "metadata": {},
   "outputs": [],
   "source": [
    "import pandas as pd\n",
    "import numpy as np\n",
    "import matplotlib.pyplot as plt"
   ]
  },
  {
   "cell_type": "code",
   "execution_count": 2,
   "metadata": {},
   "outputs": [],
   "source": [
    "data = pd.read_csv('./column_2C_weka.csv')"
   ]
  },
  {
   "cell_type": "code",
   "execution_count": 3,
   "metadata": {},
   "outputs": [
    {
     "data": {
      "text/html": [
       "<div>\n",
       "<style scoped>\n",
       "    .dataframe tbody tr th:only-of-type {\n",
       "        vertical-align: middle;\n",
       "    }\n",
       "\n",
       "    .dataframe tbody tr th {\n",
       "        vertical-align: top;\n",
       "    }\n",
       "\n",
       "    .dataframe thead th {\n",
       "        text-align: right;\n",
       "    }\n",
       "</style>\n",
       "<table border=\"1\" class=\"dataframe\">\n",
       "  <thead>\n",
       "    <tr style=\"text-align: right;\">\n",
       "      <th></th>\n",
       "      <th>pelvic_incidence</th>\n",
       "      <th>pelvic_tilt numeric</th>\n",
       "      <th>lumbar_lordosis_angle</th>\n",
       "      <th>sacral_slope</th>\n",
       "      <th>pelvic_radius</th>\n",
       "      <th>degree_spondylolisthesis</th>\n",
       "      <th>class</th>\n",
       "    </tr>\n",
       "  </thead>\n",
       "  <tbody>\n",
       "    <tr>\n",
       "      <th>0</th>\n",
       "      <td>63.027818</td>\n",
       "      <td>22.552586</td>\n",
       "      <td>39.609117</td>\n",
       "      <td>40.475232</td>\n",
       "      <td>98.672917</td>\n",
       "      <td>-0.254400</td>\n",
       "      <td>Abnormal</td>\n",
       "    </tr>\n",
       "    <tr>\n",
       "      <th>1</th>\n",
       "      <td>39.056951</td>\n",
       "      <td>10.060991</td>\n",
       "      <td>25.015378</td>\n",
       "      <td>28.995960</td>\n",
       "      <td>114.405425</td>\n",
       "      <td>4.564259</td>\n",
       "      <td>Abnormal</td>\n",
       "    </tr>\n",
       "    <tr>\n",
       "      <th>2</th>\n",
       "      <td>68.832021</td>\n",
       "      <td>22.218482</td>\n",
       "      <td>50.092194</td>\n",
       "      <td>46.613539</td>\n",
       "      <td>105.985135</td>\n",
       "      <td>-3.530317</td>\n",
       "      <td>Abnormal</td>\n",
       "    </tr>\n",
       "    <tr>\n",
       "      <th>3</th>\n",
       "      <td>69.297008</td>\n",
       "      <td>24.652878</td>\n",
       "      <td>44.311238</td>\n",
       "      <td>44.644130</td>\n",
       "      <td>101.868495</td>\n",
       "      <td>11.211523</td>\n",
       "      <td>Abnormal</td>\n",
       "    </tr>\n",
       "    <tr>\n",
       "      <th>4</th>\n",
       "      <td>49.712859</td>\n",
       "      <td>9.652075</td>\n",
       "      <td>28.317406</td>\n",
       "      <td>40.060784</td>\n",
       "      <td>108.168725</td>\n",
       "      <td>7.918501</td>\n",
       "      <td>Abnormal</td>\n",
       "    </tr>\n",
       "    <tr>\n",
       "      <th>...</th>\n",
       "      <td>...</td>\n",
       "      <td>...</td>\n",
       "      <td>...</td>\n",
       "      <td>...</td>\n",
       "      <td>...</td>\n",
       "      <td>...</td>\n",
       "      <td>...</td>\n",
       "    </tr>\n",
       "    <tr>\n",
       "      <th>305</th>\n",
       "      <td>47.903565</td>\n",
       "      <td>13.616688</td>\n",
       "      <td>36.000000</td>\n",
       "      <td>34.286877</td>\n",
       "      <td>117.449062</td>\n",
       "      <td>-4.245395</td>\n",
       "      <td>Normal</td>\n",
       "    </tr>\n",
       "    <tr>\n",
       "      <th>306</th>\n",
       "      <td>53.936748</td>\n",
       "      <td>20.721496</td>\n",
       "      <td>29.220534</td>\n",
       "      <td>33.215251</td>\n",
       "      <td>114.365845</td>\n",
       "      <td>-0.421010</td>\n",
       "      <td>Normal</td>\n",
       "    </tr>\n",
       "    <tr>\n",
       "      <th>307</th>\n",
       "      <td>61.446597</td>\n",
       "      <td>22.694968</td>\n",
       "      <td>46.170347</td>\n",
       "      <td>38.751628</td>\n",
       "      <td>125.670725</td>\n",
       "      <td>-2.707880</td>\n",
       "      <td>Normal</td>\n",
       "    </tr>\n",
       "    <tr>\n",
       "      <th>308</th>\n",
       "      <td>45.252792</td>\n",
       "      <td>8.693157</td>\n",
       "      <td>41.583126</td>\n",
       "      <td>36.559635</td>\n",
       "      <td>118.545842</td>\n",
       "      <td>0.214750</td>\n",
       "      <td>Normal</td>\n",
       "    </tr>\n",
       "    <tr>\n",
       "      <th>309</th>\n",
       "      <td>33.841641</td>\n",
       "      <td>5.073991</td>\n",
       "      <td>36.641233</td>\n",
       "      <td>28.767649</td>\n",
       "      <td>123.945244</td>\n",
       "      <td>-0.199249</td>\n",
       "      <td>Normal</td>\n",
       "    </tr>\n",
       "  </tbody>\n",
       "</table>\n",
       "<p>310 rows × 7 columns</p>\n",
       "</div>"
      ],
      "text/plain": [
       "     pelvic_incidence  pelvic_tilt numeric  lumbar_lordosis_angle  \\\n",
       "0           63.027818            22.552586              39.609117   \n",
       "1           39.056951            10.060991              25.015378   \n",
       "2           68.832021            22.218482              50.092194   \n",
       "3           69.297008            24.652878              44.311238   \n",
       "4           49.712859             9.652075              28.317406   \n",
       "..                ...                  ...                    ...   \n",
       "305         47.903565            13.616688              36.000000   \n",
       "306         53.936748            20.721496              29.220534   \n",
       "307         61.446597            22.694968              46.170347   \n",
       "308         45.252792             8.693157              41.583126   \n",
       "309         33.841641             5.073991              36.641233   \n",
       "\n",
       "     sacral_slope  pelvic_radius  degree_spondylolisthesis     class  \n",
       "0       40.475232      98.672917                 -0.254400  Abnormal  \n",
       "1       28.995960     114.405425                  4.564259  Abnormal  \n",
       "2       46.613539     105.985135                 -3.530317  Abnormal  \n",
       "3       44.644130     101.868495                 11.211523  Abnormal  \n",
       "4       40.060784     108.168725                  7.918501  Abnormal  \n",
       "..            ...            ...                       ...       ...  \n",
       "305     34.286877     117.449062                 -4.245395    Normal  \n",
       "306     33.215251     114.365845                 -0.421010    Normal  \n",
       "307     38.751628     125.670725                 -2.707880    Normal  \n",
       "308     36.559635     118.545842                  0.214750    Normal  \n",
       "309     28.767649     123.945244                 -0.199249    Normal  \n",
       "\n",
       "[310 rows x 7 columns]"
      ]
     },
     "execution_count": 3,
     "metadata": {},
     "output_type": "execute_result"
    }
   ],
   "source": [
    "data"
   ]
  },
  {
   "cell_type": "code",
   "execution_count": 4,
   "metadata": {},
   "outputs": [
    {
     "data": {
      "text/plain": [
       "<matplotlib.collections.PathCollection at 0x23032a0b460>"
      ]
     },
     "execution_count": 4,
     "metadata": {},
     "output_type": "execute_result"
    },
    {
     "data": {
      "image/png": "[encoded data removed]",
      "text/plain": [
       "<Figure size 432x288 with 1 Axes>"
      ]
     },
     "metadata": {
      "needs_background": "light"
     },
     "output_type": "display_data"
    }
   ],
   "source": [
    "plt.scatter(data['pelvic_radius'], data['degree_spondylolisthesis'])"
   ]
  },
  {
   "cell_type": "code",
   "execution_count": 6,
   "metadata": {},
   "outputs": [],
   "source": [
    "data2 = data.loc[:,['degree_spondylolisthesis', 'pelvic_radius']]"
   ]
  },
  {
   "cell_type": "code",
   "execution_count": 7,
   "metadata": {},
   "outputs": [],
   "source": [
    "from sklearn.cluster import KMeans"
   ]
  },
  {
   "cell_type": "code",
   "execution_count": 15,
   "metadata": {},
   "outputs": [
    {
     "data": {
      "text/plain": [
       "KMeans(n_clusters=2)"
      ]
     },
     "execution_count": 15,
     "metadata": {},
     "output_type": "execute_result"
    }
   ],
   "source": [
    "kmeans = KMeans(n_clusters=2) # 两簇\n",
    "kmeans.fit(data2)"
   ]
  },
  {
   "cell_type": "code",
   "execution_count": 16,
   "metadata": {},
   "outputs": [],
   "source": [
    "labels = kmeans.predict(data2)"
   ]
  },
  {
   "cell_type": "code",
   "execution_count": 17,
   "metadata": {},
   "outputs": [
    {
     "data": {
      "text/plain": [
       "<matplotlib.collections.PathCollection at 0x23035873280>"
      ]
     },
     "execution_count": 17,
     "metadata": {},
     "output_type": "execute_result"
    },
    {
     "data": {
      "image/png": "[encoded data removed]",
      "text/plain": [
       "<Figure size 432x288 with 1 Axes>"
      ]
     },
     "metadata": {
      "needs_background": "light"
     },
     "output_type": "display_data"
    }
   ],
   "source": [
    "plt.scatter(data['pelvic_radius'], data['degree_spondylolisthesis'], c=labels)"
   ]
  },
  {
   "cell_type": "code",
   "execution_count": 14,
   "metadata": {},
   "outputs": [],
   "source": [
    "from sklearn.preprocessing import StandardScaler # (原始数据 -均值) / 标准差 均值0  方差1\n",
    "# Standardizaton"
   ]
  },
  {
   "cell_type": "code",
   "execution_count": 19,
   "metadata": {},
   "outputs": [],
   "source": [
    "# 效果评估\n",
    "# 数据 3组 -> 交叉表 \n",
    "df = pd.DataFrame({'labels':labels, 'class':data['class']})\n",
    "ct = pd.crosstab(df['labels'], df['class'])"
   ]
  },
  {
   "cell_type": "code",
   "execution_count": 20,
   "metadata": {},
   "outputs": [
    {
     "data": {
      "text/html": [
       "<div>\n",
       "<style scoped>\n",
       "    .dataframe tbody tr th:only-of-type {\n",
       "        vertical-align: middle;\n",
       "    }\n",
       "\n",
       "    .dataframe tbody tr th {\n",
       "        vertical-align: top;\n",
       "    }\n",
       "\n",
       "    .dataframe thead th {\n",
       "        text-align: right;\n",
       "    }\n",
       "</style>\n",
       "<table border=\"1\" class=\"dataframe\">\n",
       "  <thead>\n",
       "    <tr style=\"text-align: right;\">\n",
       "      <th>class</th>\n",
       "      <th>Abnormal</th>\n",
       "      <th>Normal</th>\n",
       "    </tr>\n",
       "    <tr>\n",
       "      <th>labels</th>\n",
       "      <th></th>\n",
       "      <th></th>\n",
       "    </tr>\n",
       "  </thead>\n",
       "  <tbody>\n",
       "    <tr>\n",
       "      <th>0</th>\n",
       "      <td>138</td>\n",
       "      <td>100</td>\n",
       "    </tr>\n",
       "    <tr>\n",
       "      <th>1</th>\n",
       "      <td>72</td>\n",
       "      <td>0</td>\n",
       "    </tr>\n",
       "  </tbody>\n",
       "</table>\n",
       "</div>"
      ],
      "text/plain": [
       "class   Abnormal  Normal\n",
       "labels                  \n",
       "0            138     100\n",
       "1             72       0"
      ]
     },
     "execution_count": 20,
     "metadata": {},
     "output_type": "execute_result"
    }
   ],
   "source": [
    "ct"
   ]
  },
  {
   "cell_type": "code",
   "execution_count": 21,
   "metadata": {},
   "outputs": [
    {
     "name": "stderr",
     "output_type": "stream",
     "text": [
      "D:\\ruanjian\\anaconda\\lib\\site-packages\\sklearn\\cluster\\_kmeans.py:881: UserWarning: KMeans is known to have a memory leak on Windows with MKL, when there are less chunks than available threads. You can avoid it by setting the environment variable OMP_NUM_THREADS=2.\n",
      "  warnings.warn(\n"
     ]
    },
    {
     "data": {
      "text/plain": [
       "[<matplotlib.lines.Line2D at 0x230361d8820>]"
      ]
     },
     "execution_count": 21,
     "metadata": {},
     "output_type": "execute_result"
    },
    {
     "data": {
      "image/png": "[encoded data removed]",
      "text/plain": [
       "<Figure size 432x288 with 1 Axes>"
      ]
     },
     "metadata": {
      "needs_background": "light"
     },
     "output_type": "display_data"
    }
   ],
   "source": [
    "inertia_list = np.empty(8)\n",
    "for i in range(1, 8):\n",
    "    kmeans = KMeans(n_clusters=i)\n",
    "    kmeans.fit(data2)\n",
    "    # inertia_ 越低  簇越多: 点到 簇的质心的距离之和\n",
    "    inertia_list[i] = kmeans.inertia_\n",
    "plt.plot(range(0, 8), inertia_list, '-o')"
   ]
  },
  {
   "cell_type": "code",
   "execution_count": 22,
   "metadata": {},
   "outputs": [],
   "source": [
    "# 标准化  监督学习 无监督学习\n",
    "data = pd.read_csv('./column_2C_weka.csv')"
   ]
  },
  {
   "cell_type": "code",
   "execution_count": 23,
   "metadata": {},
   "outputs": [],
   "source": [
    "data3 = data.drop('class', axis=1)"
   ]
  },
  {
   "cell_type": "code",
   "execution_count": 25,
   "metadata": {},
   "outputs": [],
   "source": [
    "scalar = StandardScaler()\n",
    "kmeans = KMeans(n_clusters=2)\n",
    "pipe = make_pipeline(scalar, kmeans)\n",
    "pipe.fit(data3)\n",
    "labels = pipe.predict(data3)\n",
    "df = pd.DataFrame({'labels':labels, 'class':data['class']})\n",
    "ct = pd.crosstab(df['labels'], df['class'])"
   ]
  },
  {
   "cell_type": "code",
   "execution_count": 26,
   "metadata": {},
   "outputs": [
    {
     "data": {
      "text/html": [
       "<div>\n",
       "<style scoped>\n",
       "    .dataframe tbody tr th:only-of-type {\n",
       "        vertical-align: middle;\n",
       "    }\n",
       "\n",
       "    .dataframe tbody tr th {\n",
       "        vertical-align: top;\n",
       "    }\n",
       "\n",
       "    .dataframe thead th {\n",
       "        text-align: right;\n",
       "    }\n",
       "</style>\n",
       "<table border=\"1\" class=\"dataframe\">\n",
       "  <thead>\n",
       "    <tr style=\"text-align: right;\">\n",
       "      <th>class</th>\n",
       "      <th>Abnormal</th>\n",
       "      <th>Normal</th>\n",
       "    </tr>\n",
       "    <tr>\n",
       "      <th>labels</th>\n",
       "      <th></th>\n",
       "      <th></th>\n",
       "    </tr>\n",
       "  </thead>\n",
       "  <tbody>\n",
       "    <tr>\n",
       "      <th>0</th>\n",
       "      <td>116</td>\n",
       "      <td>10</td>\n",
       "    </tr>\n",
       "    <tr>\n",
       "      <th>1</th>\n",
       "      <td>94</td>\n",
       "      <td>90</td>\n",
       "    </tr>\n",
       "  </tbody>\n",
       "</table>\n",
       "</div>"
      ],
      "text/plain": [
       "class   Abnormal  Normal\n",
       "labels                  \n",
       "0            116      10\n",
       "1             94      90"
      ]
     },
     "execution_count": 26,
     "metadata": {},
     "output_type": "execute_result"
    }
   ],
   "source": [
    "ct"
   ]
  },
  {
   "cell_type": "code",
   "execution_count": null,
   "metadata": {},
   "outputs": [],
   "source": []
  },
  {
   "cell_type": "code",
   "execution_count": 24,
   "metadata": {},
   "outputs": [],
   "source": [
    "from sklearn.pipeline import make_pipeline"
   ]
  },
  {
   "cell_type": "markdown",
   "metadata": {},
   "source": [
    "### 层次聚类:\n",
    "    1. 计算不同类别数据点间的相似度来创建一颗 有层次的嵌套聚类树"
   ]
  },
  {
   "cell_type": "code",
   "execution_count": 28,
   "metadata": {},
   "outputs": [
    {
     "data": {
      "image/png": "[encoded data removed]",
      "text/plain": [
       "<Figure size 432x288 with 1 Axes>"
      ]
     },
     "metadata": {
      "needs_background": "light"
     },
     "output_type": "display_data"
    }
   ],
   "source": [
    "from scipy.cluster.hierarchy import linkage, dendrogram\n",
    "# linkage 层次聚类\n",
    "merg = linkage(data3.iloc[200:220, :], method='single')\n",
    "# dendrogram 绘制树图\n",
    "dendrogram(merg, leaf_rotation=90, leaf_font_size=15)\n",
    "plt.show()"
   ]
  },
  {
   "cell_type": "code",
   "execution_count": 29,
   "metadata": {},
   "outputs": [],
   "source": [
    "from scipy.io import loadmat"
   ]
  },
  {
   "cell_type": "code",
   "execution_count": 31,
   "metadata": {},
   "outputs": [],
   "source": [
    "def find_closest_centroids(X, centroids):\n",
    "    m = X.shape[0]\n",
    "    k = centroids.shape[0]\n",
    "    idx = np.zeros(m)\n",
    "    \n",
    "    for i in range(m):\n",
    "        min_dist = 1000000\n",
    "        for j in range(k):\n",
    "            dist = np.sum((X[i,:] - centroids[j, :]) ** 2)\n",
    "            if dist < min_dist:\n",
    "                min_dist = dist\n",
    "                idx[i] = j\n",
    "    return idx"
   ]
  },
  {
   "cell_type": "code",
   "execution_count": 32,
   "metadata": {},
   "outputs": [],
   "source": [
    "data = loadmat('./ex7data2.mat')"
   ]
  },
  {
   "cell_type": "code",
   "execution_count": 33,
   "metadata": {},
   "outputs": [
    {
     "data": {
      "text/plain": [
       "{'__header__': b'MATLAB 5.0 MAT-file, Platform: GLNXA64, Created on: Wed Nov 16 00:48:22 2011',\n",
       " '__version__': '1.0',\n",
       " '__globals__': [],\n",
       " 'X': array([[ 1.84207953,  4.6075716 ],\n",
       "        [ 5.65858312,  4.79996405],\n",
       "        [ 6.35257892,  3.2908545 ],\n",
       "        [ 2.90401653,  4.61220411],\n",
       "        [ 3.23197916,  4.93989405],\n",
       "        [ 1.24792268,  4.93267846],\n",
       "        [ 1.97619886,  4.43489674],\n",
       "        [ 2.23454135,  5.05547168],\n",
       "        [ 2.98340757,  4.84046406],\n",
       "        [ 2.97970391,  4.80671081],\n",
       "        [ 2.11496411,  5.37373587],\n",
       "        [ 2.12169543,  5.20854212],\n",
       "        [ 1.5143529 ,  4.77003303],\n",
       "        [ 2.16979227,  5.27435354],\n",
       "        [ 0.41852373,  4.88312522],\n",
       "        [ 2.47053695,  4.80418944],\n",
       "        [ 4.06069132,  4.99503862],\n",
       "        [ 3.00708934,  4.67897758],\n",
       "        [ 0.66632346,  4.87187949],\n",
       "        [ 3.1621865 ,  4.83658301],\n",
       "        [ 0.51155258,  4.91052923],\n",
       "        [ 3.1342801 ,  4.96178114],\n",
       "        [ 2.04974595,  5.6241395 ],\n",
       "        [ 0.66582785,  5.24399257],\n",
       "        [ 1.01732013,  4.84473647],\n",
       "        [ 2.17893568,  5.29758701],\n",
       "        [ 2.85962615,  5.26041997],\n",
       "        [ 1.30882588,  5.30158701],\n",
       "        [ 0.99253246,  5.01567424],\n",
       "        [ 1.40372638,  4.57527684],\n",
       "        [ 2.66046572,  5.19623848],\n",
       "        [ 2.79995882,  5.11526323],\n",
       "        [ 2.06995345,  4.6846713 ],\n",
       "        [ 3.29765181,  5.59205535],\n",
       "        [ 1.8929766 ,  4.89043209],\n",
       "        [ 2.55983064,  5.26397756],\n",
       "        [ 1.15354031,  4.67866717],\n",
       "        [ 2.25150754,  5.4450031 ],\n",
       "        [ 2.20960296,  4.91469264],\n",
       "        [ 1.59141937,  4.83212573],\n",
       "        [ 1.67838038,  5.26903822],\n",
       "        [ 2.59148642,  4.92593394],\n",
       "        [ 2.80996442,  5.53849899],\n",
       "        [ 0.95311627,  5.58037108],\n",
       "        [ 1.51775276,  5.03836638],\n",
       "        [ 3.23114248,  5.78429665],\n",
       "        [ 2.54180011,  4.81098738],\n",
       "        [ 3.81422865,  4.73526796],\n",
       "        [ 1.68495829,  4.59643553],\n",
       "        [ 2.17777173,  4.86154019],\n",
       "        [ 1.8173328 ,  5.13333907],\n",
       "        [ 1.85776553,  4.86962414],\n",
       "        [ 3.03084301,  5.24057582],\n",
       "        [ 2.92658295,  5.09667923],\n",
       "        [ 3.43493543,  5.34080741],\n",
       "        [ 3.20367116,  4.85924759],\n",
       "        [ 0.10511804,  4.72916344],\n",
       "        [ 1.40597916,  5.06636822],\n",
       "        [ 2.24185052,  4.9244617 ],\n",
       "        [ 1.36678395,  5.26161095],\n",
       "        [ 1.70725482,  4.04231479],\n",
       "        [ 1.91909566,  5.57848447],\n",
       "        [ 1.60156731,  4.64453012],\n",
       "        [ 0.37963437,  5.26194729],\n",
       "        [ 2.02134502,  4.41267445],\n",
       "        [ 1.12036737,  5.20880747],\n",
       "        [ 2.26901428,  4.61818883],\n",
       "        [-0.24512713,  5.74019237],\n",
       "        [ 2.12857843,  5.01149793],\n",
       "        [ 1.84419981,  5.03153948],\n",
       "        [ 2.32558253,  4.74867962],\n",
       "        [ 1.52334113,  4.87916159],\n",
       "        [ 1.02285128,  5.0105065 ],\n",
       "        [ 1.85382737,  5.00752482],\n",
       "        [ 2.20321658,  4.94516379],\n",
       "        [ 1.20099981,  4.57829763],\n",
       "        [ 1.02062703,  4.62991119],\n",
       "        [ 1.60493227,  5.13663139],\n",
       "        [ 0.47647355,  5.13535977],\n",
       "        [ 0.3639172 ,  4.73332823],\n",
       "        [ 0.31319845,  5.54694644],\n",
       "        [ 2.28664839,  5.0076699 ],\n",
       "        [ 2.15460139,  5.46282959],\n",
       "        [ 2.05288518,  4.77958559],\n",
       "        [ 4.88804332,  5.50670795],\n",
       "        [ 2.40304747,  5.08147326],\n",
       "        [ 2.56869453,  5.20687886],\n",
       "        [ 1.82975993,  4.59657288],\n",
       "        [ 0.54845223,  5.0267298 ],\n",
       "        [ 3.17109619,  5.5946452 ],\n",
       "        [ 3.04202069,  5.00758373],\n",
       "        [ 2.40427775,  5.0258707 ],\n",
       "        [ 0.17783466,  5.29765032],\n",
       "        [ 2.61428678,  5.22287414],\n",
       "        [ 2.30097798,  4.97235844],\n",
       "        [ 3.90779317,  5.09464676],\n",
       "        [ 2.05670542,  5.23391326],\n",
       "        [ 1.38133497,  5.00194962],\n",
       "        [ 1.16074178,  4.67727927],\n",
       "        [ 1.72818199,  5.36028437],\n",
       "        [ 3.20360621,  0.7222149 ],\n",
       "        [ 3.06192918,  1.5719211 ],\n",
       "        [ 4.01714917,  1.16070647],\n",
       "        [ 1.40260822,  1.08726536],\n",
       "        [ 4.08164951,  0.87200343],\n",
       "        [ 3.15273081,  0.98155871],\n",
       "        [ 3.45186351,  0.42784083],\n",
       "        [ 3.85384314,  0.7920479 ],\n",
       "        [ 1.57449255,  1.34811126],\n",
       "        [ 4.72372078,  0.62044136],\n",
       "        [ 2.87961084,  0.75413741],\n",
       "        [ 0.96791348,  1.16166819],\n",
       "        [ 1.53178107,  1.10054852],\n",
       "        [ 4.13835915,  1.24780979],\n",
       "        [ 3.16109021,  1.29422893],\n",
       "        [ 2.95177039,  0.89583143],\n",
       "        [ 3.27844295,  1.75043926],\n",
       "        [ 2.1270185 ,  0.95672042],\n",
       "        [ 3.32648885,  1.28019066],\n",
       "        [ 2.54371489,  0.95732716],\n",
       "        [ 3.233947  ,  1.08202324],\n",
       "        [ 4.43152976,  0.54041   ],\n",
       "        [ 3.56478625,  1.11764714],\n",
       "        [ 4.25588482,  0.90643957],\n",
       "        [ 4.05386581,  0.53291862],\n",
       "        [ 3.08970176,  1.08814448],\n",
       "        [ 2.84734459,  0.26759253],\n",
       "        [ 3.63586049,  1.12160194],\n",
       "        [ 1.95538864,  1.32156857],\n",
       "        [ 2.88384005,  0.80454506],\n",
       "        [ 3.48444387,  1.13551448],\n",
       "        [ 3.49798412,  1.10046402],\n",
       "        [ 2.45575934,  0.78904654],\n",
       "        [ 3.2038001 ,  1.02728075],\n",
       "        [ 3.00677254,  0.62519128],\n",
       "        [ 1.96547974,  1.2173076 ],\n",
       "        [ 2.17989333,  1.30879831],\n",
       "        [ 2.61207029,  0.99076856],\n",
       "        [ 3.95549912,  0.83269299],\n",
       "        [ 3.64846482,  1.62849697],\n",
       "        [ 4.18450011,  0.45356203],\n",
       "        [ 3.7875723 ,  1.45442904],\n",
       "        [ 3.30063655,  1.28107588],\n",
       "        [ 3.02836363,  1.35635189],\n",
       "        [ 3.18412176,  1.41410799],\n",
       "        [ 4.16911897,  0.20581038],\n",
       "        [ 3.24024211,  1.14876237],\n",
       "        [ 3.91596068,  1.01225774],\n",
       "        [ 2.96979716,  1.01210306],\n",
       "        [ 1.12993856,  0.77085284],\n",
       "        [ 2.71730799,  0.48697555],\n",
       "        [ 3.1189017 ,  0.69438336],\n",
       "        [ 2.4051802 ,  1.11778123],\n",
       "        [ 2.95818429,  1.01887096],\n",
       "        [ 1.65456309,  1.18631175],\n",
       "        [ 2.39775807,  1.24721387],\n",
       "        [ 2.28409305,  0.64865469],\n",
       "        [ 2.79588724,  0.99526664],\n",
       "        [ 3.41156277,  1.1596363 ],\n",
       "        [ 3.50663521,  0.73878104],\n",
       "        [ 3.93616029,  1.46202934],\n",
       "        [ 3.90206657,  1.27778751],\n",
       "        [ 2.61036396,  0.88027602],\n",
       "        [ 4.37271861,  1.02914092],\n",
       "        [ 3.08349136,  1.19632644],\n",
       "        [ 2.1159935 ,  0.7930365 ],\n",
       "        [ 2.15653404,  0.40358861],\n",
       "        [ 2.14491101,  1.13582399],\n",
       "        [ 1.84935524,  1.02232644],\n",
       "        [ 4.1590816 ,  0.61720733],\n",
       "        [ 2.76494499,  1.43148951],\n",
       "        [ 3.90561153,  1.16575315],\n",
       "        [ 2.54071672,  0.98392516],\n",
       "        [ 4.27783068,  1.1801368 ],\n",
       "        [ 3.31058167,  1.03124461],\n",
       "        [ 2.15520661,  0.80696562],\n",
       "        [ 3.71363659,  0.45813208],\n",
       "        [ 3.54010186,  0.86446135],\n",
       "        [ 1.60519991,  1.1098053 ],\n",
       "        [ 1.75164337,  0.68853536],\n",
       "        [ 3.12405123,  0.67821757],\n",
       "        [ 2.37198785,  1.42789607],\n",
       "        [ 2.53446019,  1.21562081],\n",
       "        [ 3.6834465 ,  1.22834538],\n",
       "        [ 3.2670134 ,  0.32056676],\n",
       "        [ 3.94159139,  0.82577438],\n",
       "        [ 3.2645514 ,  1.3836869 ],\n",
       "        [ 4.30471138,  1.10725995],\n",
       "        [ 2.68499376,  0.35344943],\n",
       "        [ 3.12635184,  1.2806893 ],\n",
       "        [ 2.94294356,  1.02825076],\n",
       "        [ 3.11876541,  1.33285459],\n",
       "        [ 2.02358978,  0.44771614],\n",
       "        [ 3.62202931,  1.28643763],\n",
       "        [ 2.42865879,  0.86499285],\n",
       "        [ 2.09517296,  1.14010491],\n",
       "        [ 5.29239452,  0.36873298],\n",
       "        [ 2.07291709,  1.16763851],\n",
       "        [ 0.94623208,  0.24522253],\n",
       "        [ 2.73911908,  1.10072284],\n",
       "        [ 6.00506534,  2.72784171],\n",
       "        [ 6.05696411,  2.94970433],\n",
       "        [ 6.77012767,  3.21411422],\n",
       "        [ 5.64034678,  2.69385282],\n",
       "        [ 5.63325403,  2.99002339],\n",
       "        [ 6.17443157,  3.29026488],\n",
       "        [ 7.24694794,  2.96877424],\n",
       "        [ 5.58162906,  3.33510375],\n",
       "        [ 5.3627205 ,  3.14681192],\n",
       "        [ 4.70775773,  2.78710869],\n",
       "        [ 7.42892098,  3.4667949 ],\n",
       "        [ 6.64107248,  3.05998738],\n",
       "        [ 6.37473652,  2.56253059],\n",
       "        [ 7.28780324,  2.75179885],\n",
       "        [ 6.20295231,  2.67856179],\n",
       "        [ 5.38736041,  2.26737346],\n",
       "        [ 5.6673103 ,  2.96477867],\n",
       "        [ 6.59702155,  3.07082376],\n",
       "        [ 7.75660559,  3.15604465],\n",
       "        [ 6.63262745,  3.14799183],\n",
       "        [ 5.76634959,  3.14271707],\n",
       "        [ 5.99423154,  2.75707858],\n",
       "        [ 6.37870407,  2.65022321],\n",
       "        [ 5.74036233,  3.10391306],\n",
       "        [ 4.61652442,  2.79320715],\n",
       "        [ 5.33533999,  3.03928694],\n",
       "        [ 5.37293912,  2.81684776],\n",
       "        [ 5.03611162,  2.92486087],\n",
       "        [ 5.52908677,  3.33681576],\n",
       "        [ 6.05086942,  2.80702594],\n",
       "        [ 5.132009  ,  2.19812195],\n",
       "        [ 5.73284945,  2.87738132],\n",
       "        [ 6.78110732,  3.05676866],\n",
       "        [ 6.44834449,  3.35299225],\n",
       "        [ 6.39941482,  2.89756948],\n",
       "        [ 5.86067925,  2.99577129],\n",
       "        [ 6.44765183,  3.16560945],\n",
       "        [ 5.36708111,  3.19502552],\n",
       "        [ 5.88735565,  3.34615566],\n",
       "        [ 3.96162465,  2.72025046],\n",
       "        [ 6.28438193,  3.17360643],\n",
       "        [ 4.20584789,  2.81647368],\n",
       "        [ 5.32615581,  3.03314047],\n",
       "        [ 7.17135204,  3.4122727 ],\n",
       "        [ 7.4949275 ,  2.84018754],\n",
       "        [ 7.39807241,  3.48487031],\n",
       "        [ 5.02432984,  2.98683179],\n",
       "        [ 5.31712478,  2.81741356],\n",
       "        [ 5.87655237,  3.21661109],\n",
       "        [ 6.03762833,  2.68303512],\n",
       "        [ 5.91280273,  2.85631938],\n",
       "        [ 6.69451358,  2.89056083],\n",
       "        [ 6.01017978,  2.72401338],\n",
       "        [ 6.92721968,  3.19960026],\n",
       "        [ 6.33559522,  3.30864291],\n",
       "        [ 6.24257071,  2.79179269],\n",
       "        [ 5.57812294,  3.24766016],\n",
       "        [ 6.40773863,  2.67554951],\n",
       "        [ 6.80029526,  3.17579578],\n",
       "        [ 7.21684033,  2.72896575],\n",
       "        [ 6.5110074 ,  2.72731907],\n",
       "        [ 4.60630534,  3.329458  ],\n",
       "        [ 7.65503226,  2.87095628],\n",
       "        [ 5.50295759,  2.62924634],\n",
       "        [ 6.63060699,  3.01502301],\n",
       "        [ 3.45928006,  2.68478445],\n",
       "        [ 8.20339815,  2.41693495],\n",
       "        [ 4.95679428,  2.89776297],\n",
       "        [ 5.37052667,  2.44954813],\n",
       "        [ 5.69797866,  2.94977132],\n",
       "        [ 6.27376271,  2.24256036],\n",
       "        [ 5.05274526,  2.75692163],\n",
       "        [ 6.88575584,  2.88845269],\n",
       "        [ 4.1877442 ,  2.89283463],\n",
       "        [ 5.97510328,  3.0259191 ],\n",
       "        [ 6.09457129,  2.61867975],\n",
       "        [ 5.72395697,  3.04454219],\n",
       "        [ 4.37249767,  3.05488217],\n",
       "        [ 6.29206262,  2.77573856],\n",
       "        [ 5.14533035,  4.13225692],\n",
       "        [ 6.5870565 ,  3.37508345],\n",
       "        [ 5.78769095,  3.29255127],\n",
       "        [ 6.72798098,  3.0043983 ],\n",
       "        [ 6.64078939,  2.41068839],\n",
       "        [ 6.23228878,  2.72850902],\n",
       "        [ 6.21772724,  2.80994633],\n",
       "        [ 5.78116301,  3.07987787],\n",
       "        [ 6.62447253,  2.74453743],\n",
       "        [ 5.19590823,  3.06972937],\n",
       "        [ 5.87177181,  3.2551773 ],\n",
       "        [ 5.89562099,  2.89843977],\n",
       "        [ 5.6175432 ,  2.5975071 ],\n",
       "        [ 5.63176103,  3.04758747],\n",
       "        [ 5.50258659,  3.11869075],\n",
       "        [ 6.48212628,  2.5508514 ],\n",
       "        [ 7.30278708,  3.38015979],\n",
       "        [ 6.99198434,  2.98706729],\n",
       "        [ 4.8255341 ,  2.77961664],\n",
       "        [ 6.11768055,  2.85475655],\n",
       "        [ 0.94048944,  5.71556802]])}"
      ]
     },
     "execution_count": 33,
     "metadata": {},
     "output_type": "execute_result"
    }
   ],
   "source": [
    "data"
   ]
  },
  {
   "cell_type": "code",
   "execution_count": 53,
   "metadata": {},
   "outputs": [
    {
     "data": {
      "text/plain": [
       "array([0., 2., 2., 0., 0., 0., 0., 0., 0., 0., 0., 0., 0., 0., 0., 0., 2.,\n",
       "       0., 0., 0., 0., 0., 0., 0., 0., 0., 0., 0., 0., 0., 0., 0., 0., 0.,\n",
       "       0., 0., 0., 0., 0., 0., 0., 0., 0., 0., 0., 0., 0., 2., 0., 0., 0.,\n",
       "       0., 0., 0., 0., 0., 0., 0., 0., 0., 0., 0., 0., 0., 0., 0., 0., 0.,\n",
       "       0., 0., 0., 0., 0., 0., 0., 0., 0., 0., 0., 0., 0., 0., 0., 0., 2.,\n",
       "       0., 0., 0., 0., 0., 0., 0., 0., 0., 0., 2., 0., 0., 0., 0., 1., 1.,\n",
       "       1., 1., 1., 1., 1., 1., 1., 1., 1., 1., 1., 1., 1., 1., 1., 1., 1.,\n",
       "       1., 1., 1., 1., 1., 1., 1., 1., 1., 1., 1., 1., 1., 1., 1., 1., 1.,\n",
       "       1., 1., 1., 1., 1., 1., 1., 1., 1., 1., 1., 1., 1., 1., 1., 1., 1.,\n",
       "       1., 1., 1., 1., 1., 1., 1., 1., 1., 1., 1., 1., 1., 1., 1., 1., 1.,\n",
       "       1., 1., 1., 1., 1., 1., 1., 1., 1., 1., 1., 1., 1., 1., 1., 1., 1.,\n",
       "       1., 1., 1., 1., 1., 1., 1., 1., 1., 1., 1., 1., 1., 2., 2., 2., 2.,\n",
       "       2., 2., 2., 2., 2., 2., 2., 2., 2., 2., 2., 2., 2., 2., 2., 2., 2.,\n",
       "       2., 2., 2., 2., 2., 2., 2., 2., 2., 2., 2., 2., 2., 2., 2., 2., 2.,\n",
       "       2., 1., 2., 1., 2., 2., 2., 2., 2., 2., 2., 2., 2., 2., 2., 2., 2.,\n",
       "       2., 2., 2., 2., 2., 2., 2., 2., 2., 2., 1., 2., 2., 2., 2., 2., 2.,\n",
       "       2., 1., 2., 2., 2., 1., 2., 2., 2., 2., 2., 2., 2., 2., 2., 2., 2.,\n",
       "       2., 2., 2., 2., 2., 2., 2., 2., 2., 2., 0.])"
      ]
     },
     "execution_count": 53,
     "metadata": {},
     "output_type": "execute_result"
    }
   ],
   "source": [
    "X = data['X']\n",
    "# initial_centroids = initial_centroids = np.array([[3, 3], [6, 2], [8, 5]])\n",
    "idx = find_closest_centroids(X, init_cen)\n",
    "idx"
   ]
  },
  {
   "cell_type": "code",
   "execution_count": 35,
   "metadata": {},
   "outputs": [],
   "source": [
    "# 计算簇的聚类中心  聚类中心只是当前分配给簇的所有样本的平均值\n",
    "data2 = pd.DataFrame(data.get('X'), columns=['X1', 'X2'])"
   ]
  },
  {
   "cell_type": "code",
   "execution_count": 36,
   "metadata": {},
   "outputs": [
    {
     "data": {
      "text/html": [
       "<div>\n",
       "<style scoped>\n",
       "    .dataframe tbody tr th:only-of-type {\n",
       "        vertical-align: middle;\n",
       "    }\n",
       "\n",
       "    .dataframe tbody tr th {\n",
       "        vertical-align: top;\n",
       "    }\n",
       "\n",
       "    .dataframe thead th {\n",
       "        text-align: right;\n",
       "    }\n",
       "</style>\n",
       "<table border=\"1\" class=\"dataframe\">\n",
       "  <thead>\n",
       "    <tr style=\"text-align: right;\">\n",
       "      <th></th>\n",
       "      <th>X1</th>\n",
       "      <th>X2</th>\n",
       "    </tr>\n",
       "  </thead>\n",
       "  <tbody>\n",
       "    <tr>\n",
       "      <th>0</th>\n",
       "      <td>1.842080</td>\n",
       "      <td>4.607572</td>\n",
       "    </tr>\n",
       "    <tr>\n",
       "      <th>1</th>\n",
       "      <td>5.658583</td>\n",
       "      <td>4.799964</td>\n",
       "    </tr>\n",
       "    <tr>\n",
       "      <th>2</th>\n",
       "      <td>6.352579</td>\n",
       "      <td>3.290854</td>\n",
       "    </tr>\n",
       "    <tr>\n",
       "      <th>3</th>\n",
       "      <td>2.904017</td>\n",
       "      <td>4.612204</td>\n",
       "    </tr>\n",
       "    <tr>\n",
       "      <th>4</th>\n",
       "      <td>3.231979</td>\n",
       "      <td>4.939894</td>\n",
       "    </tr>\n",
       "    <tr>\n",
       "      <th>...</th>\n",
       "      <td>...</td>\n",
       "      <td>...</td>\n",
       "    </tr>\n",
       "    <tr>\n",
       "      <th>295</th>\n",
       "      <td>7.302787</td>\n",
       "      <td>3.380160</td>\n",
       "    </tr>\n",
       "    <tr>\n",
       "      <th>296</th>\n",
       "      <td>6.991984</td>\n",
       "      <td>2.987067</td>\n",
       "    </tr>\n",
       "    <tr>\n",
       "      <th>297</th>\n",
       "      <td>4.825534</td>\n",
       "      <td>2.779617</td>\n",
       "    </tr>\n",
       "    <tr>\n",
       "      <th>298</th>\n",
       "      <td>6.117681</td>\n",
       "      <td>2.854757</td>\n",
       "    </tr>\n",
       "    <tr>\n",
       "      <th>299</th>\n",
       "      <td>0.940489</td>\n",
       "      <td>5.715568</td>\n",
       "    </tr>\n",
       "  </tbody>\n",
       "</table>\n",
       "<p>300 rows × 2 columns</p>\n",
       "</div>"
      ],
      "text/plain": [
       "           X1        X2\n",
       "0    1.842080  4.607572\n",
       "1    5.658583  4.799964\n",
       "2    6.352579  3.290854\n",
       "3    2.904017  4.612204\n",
       "4    3.231979  4.939894\n",
       "..        ...       ...\n",
       "295  7.302787  3.380160\n",
       "296  6.991984  2.987067\n",
       "297  4.825534  2.779617\n",
       "298  6.117681  2.854757\n",
       "299  0.940489  5.715568\n",
       "\n",
       "[300 rows x 2 columns]"
      ]
     },
     "execution_count": 36,
     "metadata": {},
     "output_type": "execute_result"
    }
   ],
   "source": [
    "data2"
   ]
  },
  {
   "cell_type": "code",
   "execution_count": 37,
   "metadata": {},
   "outputs": [],
   "source": [
    "import seaborn as sns"
   ]
  },
  {
   "cell_type": "code",
   "execution_count": 38,
   "metadata": {},
   "outputs": [
    {
     "data": {
      "text/plain": [
       "<seaborn.axisgrid.FacetGrid at 0x2303997bcd0>"
      ]
     },
     "execution_count": 38,
     "metadata": {},
     "output_type": "execute_result"
    },
    {
     "data": {
      "image/png": "[encoded data removed]",
      "text/plain": [
       "<Figure size 360x360 with 1 Axes>"
      ]
     },
     "metadata": {
      "needs_background": "light"
     },
     "output_type": "display_data"
    }
   ],
   "source": [
    "sns.lmplot('X1', 'X2', data=data2, fit_reg=False)"
   ]
  },
  {
   "cell_type": "code",
   "execution_count": 54,
   "metadata": {},
   "outputs": [],
   "source": [
    "def compute_centroids(X, idx, k):\n",
    "    m, n = X.shape\n",
    "    centroids = np.zeros((k, n))\n",
    "    \n",
    "    for i in range(k):\n",
    "        indices = np.where(idx == i)\n",
    "        centroids[i, :] = (np.sum(X[indices, :], axis=1) / len(indices[0])).ravel()\n",
    "    return centroids"
   ]
  },
  {
   "cell_type": "code",
   "execution_count": 55,
   "metadata": {},
   "outputs": [
    {
     "data": {
      "text/plain": [
       "array([[1.8916712 , 5.02822013],\n",
       "       [3.07829097, 1.06986716],\n",
       "       [6.02383359, 3.06113274]])"
      ]
     },
     "execution_count": 55,
     "metadata": {},
     "output_type": "execute_result"
    }
   ],
   "source": [
    "compute_centroids(X, idx, 3)"
   ]
  },
  {
   "cell_type": "code",
   "execution_count": 46,
   "metadata": {},
   "outputs": [],
   "source": [
    "# 只需要再将样本分配给最近的簇并重新计算簇的聚类中心\n",
    "def run_k_means(X, initial_centroids, max_iters):\n",
    "    m, n = X.shape\n",
    "    k = initial_centroids.shape[0]\n",
    "    idx = np.zeros(m)\n",
    "    centroids = initial_centroids\n",
    "    \n",
    "    for i in range(max_iters):\n",
    "        idx = find_closest_centroids(X, centroids)\n",
    "        centroids = compute_centroids(X, idx, k)\n",
    "    return idx, centroids"
   ]
  },
  {
   "cell_type": "code",
   "execution_count": 56,
   "metadata": {},
   "outputs": [],
   "source": [
    "idx, centroids = run_k_means(X, init_cen, 10)"
   ]
  },
  {
   "cell_type": "code",
   "execution_count": 57,
   "metadata": {},
   "outputs": [],
   "source": [
    "cluster1 = X[np.where(idx == 0)[0], :]\n",
    "cluster2 = X[np.where(idx == 1)[0], :]\n",
    "cluster3 = X[np.where(idx == 2)[0], :]"
   ]
  },
  {
   "cell_type": "code",
   "execution_count": 59,
   "metadata": {},
   "outputs": [
    {
     "data": {
      "image/png": "[encoded data removed]",
      "text/plain": [
       "<Figure size 864x576 with 1 Axes>"
      ]
     },
     "metadata": {
      "needs_background": "light"
     },
     "output_type": "display_data"
    }
   ],
   "source": [
    "fig, ax = plt.subplots(figsize=(12, 8))\n",
    "ax.scatter(cluster1[:, 0], cluster1[:, 1], s=30, color='r', label='Cluster 1')\n",
    "ax.scatter(cluster2[:, 0], cluster2[:, 1], s=30, color='g', label='Cluster 2')\n",
    "ax.scatter(cluster3[:, 0], cluster3[:, 1], s=30, color='b', label='Cluster 3')\n",
    "ax.legend()\n",
    "plt.show()"
   ]
  },
  {
   "cell_type": "code",
   "execution_count": 50,
   "metadata": {},
   "outputs": [],
   "source": [
    "def init_centroids(X, k):\n",
    "    m, n = X.shape\n",
    "    centroids = np.zeros((k, n))\n",
    "    idx = np.random.randint(0, m, k)\n",
    "    \n",
    "    for i in range(k):\n",
    "        centroids[i, :] = X[idx[i], :]\n",
    "    return centroids"
   ]
  },
  {
   "cell_type": "code",
   "execution_count": 52,
   "metadata": {},
   "outputs": [],
   "source": [
    "init_cen = init_centroids(X, 3)"
   ]
  },
  {
   "cell_type": "code",
   "execution_count": 61,
   "metadata": {},
   "outputs": [],
   "source": [
    "# 通过聚类找到代表性的少数颜色  聚类分配将原始24位颜色映射到低维颜色空间\n",
    "from IPython.display import Image"
   ]
  },
  {
   "cell_type": "code",
   "execution_count": 62,
   "metadata": {},
   "outputs": [
    {
     "data": {
      "image/png": "[encoded data removed]",
      "text/plain": [
       "<IPython.core.display.Image object>"
      ]
     },
     "execution_count": 62,
     "metadata": {},
     "output_type": "execute_result"
    }
   ],
   "source": [
    "Image(filename='./bird_small.png')"
   ]
  },
  {
   "cell_type": "code",
   "execution_count": 63,
   "metadata": {},
   "outputs": [],
   "source": [
    "image_data = loadmat('./bird_small.mat')"
   ]
  },
  {
   "cell_type": "code",
   "execution_count": 64,
   "metadata": {},
   "outputs": [
    {
     "data": {
      "text/plain": [
       "{'__header__': b'MATLAB 5.0 MAT-file, Platform: GLNXA64, Created on: Tue Jun  5 04:06:24 2012',\n",
       " '__version__': '1.0',\n",
       " '__globals__': [],\n",
       " 'A': array([[[219, 180, 103],\n",
       "         [230, 185, 116],\n",
       "         [226, 186, 110],\n",
       "         ...,\n",
       "         [ 14,  15,  13],\n",
       "         [ 13,  15,  12],\n",
       "         [ 12,  14,  12]],\n",
       " \n",
       "        [[230, 193, 119],\n",
       "         [224, 192, 120],\n",
       "         [226, 192, 124],\n",
       "         ...,\n",
       "         [ 16,  16,  13],\n",
       "         [ 14,  15,  10],\n",
       "         [ 11,  14,   9]],\n",
       " \n",
       "        [[228, 191, 123],\n",
       "         [228, 191, 121],\n",
       "         [220, 185, 118],\n",
       "         ...,\n",
       "         [ 14,  16,  13],\n",
       "         [ 13,  13,  11],\n",
       "         [ 11,  15,  10]],\n",
       " \n",
       "        ...,\n",
       " \n",
       "        [[ 15,  18,  16],\n",
       "         [ 18,  21,  18],\n",
       "         [ 18,  19,  16],\n",
       "         ...,\n",
       "         [ 81,  45,  45],\n",
       "         [ 70,  43,  35],\n",
       "         [ 72,  51,  43]],\n",
       " \n",
       "        [[ 16,  17,  17],\n",
       "         [ 17,  18,  19],\n",
       "         [ 20,  19,  20],\n",
       "         ...,\n",
       "         [ 80,  38,  40],\n",
       "         [ 68,  39,  40],\n",
       "         [ 59,  43,  42]],\n",
       " \n",
       "        [[ 15,  19,  19],\n",
       "         [ 20,  20,  18],\n",
       "         [ 18,  19,  17],\n",
       "         ...,\n",
       "         [ 65,  43,  39],\n",
       "         [ 58,  37,  38],\n",
       "         [ 52,  39,  34]]], dtype=uint8)}"
      ]
     },
     "execution_count": 64,
     "metadata": {},
     "output_type": "execute_result"
    }
   ],
   "source": [
    "image_data"
   ]
  },
  {
   "cell_type": "code",
   "execution_count": 65,
   "metadata": {},
   "outputs": [],
   "source": [
    "A = image_data['A']"
   ]
  },
  {
   "cell_type": "code",
   "execution_count": 66,
   "metadata": {},
   "outputs": [
    {
     "data": {
      "text/plain": [
       "(128, 128, 3)"
      ]
     },
     "execution_count": 66,
     "metadata": {},
     "output_type": "execute_result"
    }
   ],
   "source": [
    "A.shape"
   ]
  },
  {
   "cell_type": "code",
   "execution_count": 67,
   "metadata": {},
   "outputs": [],
   "source": [
    "A = A / 255 # 获取 正常值"
   ]
  },
  {
   "cell_type": "code",
   "execution_count": 69,
   "metadata": {},
   "outputs": [
    {
     "data": {
      "text/plain": [
       "(128, 128, 3)"
      ]
     },
     "execution_count": 69,
     "metadata": {},
     "output_type": "execute_result"
    }
   ],
   "source": [
    "A.shape"
   ]
  },
  {
   "cell_type": "code",
   "execution_count": 70,
   "metadata": {},
   "outputs": [],
   "source": [
    "X = np.reshape(A, (A.shape[0] * A.shape[1], A.shape[2]))"
   ]
  },
  {
   "cell_type": "code",
   "execution_count": 72,
   "metadata": {},
   "outputs": [
    {
     "data": {
      "text/plain": [
       "(16384, 3)"
      ]
     },
     "execution_count": 72,
     "metadata": {},
     "output_type": "execute_result"
    }
   ],
   "source": [
    "X.shape"
   ]
  },
  {
   "cell_type": "code",
   "execution_count": 73,
   "metadata": {},
   "outputs": [],
   "source": [
    "# 随机初始化质心\n",
    "initial_centroids = init_centroids(X, 16)"
   ]
  },
  {
   "cell_type": "code",
   "execution_count": 76,
   "metadata": {},
   "outputs": [],
   "source": [
    "idx, centroids = run_k_means(X, initial_centroids, 10)  # 运行算法"
   ]
  },
  {
   "cell_type": "code",
   "execution_count": 77,
   "metadata": {},
   "outputs": [],
   "source": [
    "# 找到最近质心\n",
    "idx = find_closest_centroids(X, centroids)\n",
    "\n",
    "# 将每个像素映射到 质心\n",
    "X_recovered = centroids[idx.astype(int), :]"
   ]
  },
  {
   "cell_type": "code",
   "execution_count": 78,
   "metadata": {},
   "outputs": [
    {
     "data": {
      "text/plain": [
       "(16384, 3)"
      ]
     },
     "execution_count": 78,
     "metadata": {},
     "output_type": "execute_result"
    }
   ],
   "source": [
    "X_recovered.shape"
   ]
  },
  {
   "cell_type": "code",
   "execution_count": 79,
   "metadata": {},
   "outputs": [],
   "source": [
    "X_recovered = np.reshape(X_recovered, (A.shape[0], A.shape[1], A.shape[2]))"
   ]
  },
  {
   "cell_type": "code",
   "execution_count": 81,
   "metadata": {},
   "outputs": [
    {
     "data": {
      "text/plain": [
       "(128, 128, 3)"
      ]
     },
     "execution_count": 81,
     "metadata": {},
     "output_type": "execute_result"
    }
   ],
   "source": [
    "X_recovered.shape"
   ]
  },
  {
   "cell_type": "code",
   "execution_count": 82,
   "metadata": {},
   "outputs": [
    {
     "data": {
      "image/png": "[encoded data removed]",
      "text/plain": [
       "<Figure size 432x288 with 1 Axes>"
      ]
     },
     "metadata": {
      "needs_background": "light"
     },
     "output_type": "display_data"
    }
   ],
   "source": [
    "plt.imshow(X_recovered)\n",
    "plt.show()"
   ]
  },
  {
   "cell_type": "code",
   "execution_count": 83,
   "metadata": {},
   "outputs": [],
   "source": [
    "from skimage import io"
   ]
  },
  {
   "cell_type": "code",
   "execution_count": 127,
   "metadata": {},
   "outputs": [
    {
     "name": "stderr",
     "output_type": "stream",
     "text": [
      "D:\\ruanjian\\anaconda\\lib\\site-packages\\skimage\\io\\_plugins\\matplotlib_plugin.py:150: UserWarning: Float image out of standard range; displaying image with stretched contrast.\n",
      "  lo, hi, cmap = _get_display_range(image)\n",
      "Clipping input data to the valid range for imshow with RGB data ([0..1] for floats or [0..255] for integers).\n"
     ]
    },
    {
     "data": {
      "image/png": "[encoded data removed]",
      "text/plain": [
       "<Figure size 432x288 with 2 Axes>"
      ]
     },
     "metadata": {
      "needs_background": "light"
     },
     "output_type": "display_data"
    }
   ],
   "source": [
    "pic = io.imread('./bird_small.png') / 225.\n",
    "io.imshow(pic)\n",
    "plt.show()"
   ]
  },
  {
   "cell_type": "code",
   "execution_count": 128,
   "metadata": {},
   "outputs": [],
   "source": [
    "data = pic.reshape(128*128, 3)"
   ]
  },
  {
   "cell_type": "code",
   "execution_count": 129,
   "metadata": {},
   "outputs": [
    {
     "data": {
      "text/plain": [
       "(16384, 3)"
      ]
     },
     "execution_count": 129,
     "metadata": {},
     "output_type": "execute_result"
    }
   ],
   "source": [
    "data.shape"
   ]
  },
  {
   "cell_type": "code",
   "execution_count": 130,
   "metadata": {},
   "outputs": [],
   "source": [
    "from sklearn.cluster import KMeans"
   ]
  },
  {
   "cell_type": "code",
   "execution_count": 131,
   "metadata": {},
   "outputs": [],
   "source": [
    "model = KMeans(n_clusters=16, n_init=100, n_jobs=-1)"
   ]
  },
  {
   "cell_type": "code",
   "execution_count": 132,
   "metadata": {},
   "outputs": [
    {
     "name": "stdout",
     "output_type": "stream",
     "text": [
      "Help on class KMeans in module sklearn.cluster._kmeans:\n",
      "\n",
      "class KMeans(sklearn.base.TransformerMixin, sklearn.base.ClusterMixin, sklearn.base.BaseEstimator)\n",
      " |  KMeans(n_clusters=8, *, init='k-means++', n_init=10, max_iter=300, tol=0.0001, precompute_distances='deprecated', verbose=0, random_state=None, copy_x=True, n_jobs='deprecated', algorithm='auto')\n",
      " |  \n",
      " |  K-Means clustering.\n",
      " |  \n",
      " |  Read more in the :ref:`User Guide <k_means>`.\n",
      " |  \n",
      " |  Parameters\n",
      " |  ----------\n",
      " |  \n",
      " |  n_clusters : int, default=8\n",
      " |      The number of clusters to form as well as the number of\n",
      " |      centroids to generate.\n",
      " |  \n",
      " |  init : {'k-means++', 'random'}, callable or array-like of shape             (n_clusters, n_features), default='k-means++'\n",
      " |      Method for initialization:\n",
      " |  \n",
      " |      'k-means++' : selects initial cluster centers for k-mean\n",
      " |      clustering in a smart way to speed up convergence. See section\n",
      " |      Notes in k_init for more details.\n",
      " |  \n",
      " |      'random': choose `n_clusters` observations (rows) at random from data\n",
      " |      for the initial centroids.\n",
      " |  \n",
      " |      If an array is passed, it should be of shape (n_clusters, n_features)\n",
      " |      and gives the initial centers.\n",
      " |  \n",
      " |      If a callable is passed, it should take arguments X, n_clusters and a\n",
      " |      random state and return an initialization.\n",
      " |  \n",
      " |  n_init : int, default=10\n",
      " |      Number of time the k-means algorithm will be run with different\n",
      " |      centroid seeds. The final results will be the best output of\n",
      " |      n_init consecutive runs in terms of inertia.\n",
      " |  \n",
      " |  max_iter : int, default=300\n",
      " |      Maximum number of iterations of the k-means algorithm for a\n",
      " |      single run.\n",
      " |  \n",
      " |  tol : float, default=1e-4\n",
      " |      Relative tolerance with regards to Frobenius norm of the difference\n",
      " |      in the cluster centers of two consecutive iterations to declare\n",
      " |      convergence.\n",
      " |  \n",
      " |  precompute_distances : {'auto', True, False}, default='auto'\n",
      " |      Precompute distances (faster but takes more memory).\n",
      " |  \n",
      " |      'auto' : do not precompute distances if n_samples * n_clusters > 12\n",
      " |      million. This corresponds to about 100MB overhead per job using\n",
      " |      double precision.\n",
      " |  \n",
      " |      True : always precompute distances.\n",
      " |  \n",
      " |      False : never precompute distances.\n",
      " |  \n",
      " |      .. deprecated:: 0.23\n",
      " |          'precompute_distances' was deprecated in version 0.22 and will be\n",
      " |          removed in 1.0 (renaming of 0.25). It has no effect.\n",
      " |  \n",
      " |  verbose : int, default=0\n",
      " |      Verbosity mode.\n",
      " |  \n",
      " |  random_state : int, RandomState instance or None, default=None\n",
      " |      Determines random number generation for centroid initialization. Use\n",
      " |      an int to make the randomness deterministic.\n",
      " |      See :term:`Glossary <random_state>`.\n",
      " |  \n",
      " |  copy_x : bool, default=True\n",
      " |      When pre-computing distances it is more numerically accurate to center\n",
      " |      the data first. If copy_x is True (default), then the original data is\n",
      " |      not modified. If False, the original data is modified, and put back\n",
      " |      before the function returns, but small numerical differences may be\n",
      " |      introduced by subtracting and then adding the data mean. Note that if\n",
      " |      the original data is not C-contiguous, a copy will be made even if\n",
      " |      copy_x is False. If the original data is sparse, but not in CSR format,\n",
      " |      a copy will be made even if copy_x is False.\n",
      " |  \n",
      " |  n_jobs : int, default=None\n",
      " |      The number of OpenMP threads to use for the computation. Parallelism is\n",
      " |      sample-wise on the main cython loop which assigns each sample to its\n",
      " |      closest center.\n",
      " |  \n",
      " |      ``None`` or ``-1`` means using all processors.\n",
      " |  \n",
      " |      .. deprecated:: 0.23\n",
      " |          ``n_jobs`` was deprecated in version 0.23 and will be removed in\n",
      " |          1.0 (renaming of 0.25).\n",
      " |  \n",
      " |  algorithm : {\"auto\", \"full\", \"elkan\"}, default=\"auto\"\n",
      " |      K-means algorithm to use. The classical EM-style algorithm is \"full\".\n",
      " |      The \"elkan\" variation is more efficient on data with well-defined\n",
      " |      clusters, by using the triangle inequality. However it's more memory\n",
      " |      intensive due to the allocation of an extra array of shape\n",
      " |      (n_samples, n_clusters).\n",
      " |  \n",
      " |      For now \"auto\" (kept for backward compatibiliy) chooses \"elkan\" but it\n",
      " |      might change in the future for a better heuristic.\n",
      " |  \n",
      " |      .. versionchanged:: 0.18\n",
      " |          Added Elkan algorithm\n",
      " |  \n",
      " |  Attributes\n",
      " |  ----------\n",
      " |  cluster_centers_ : ndarray of shape (n_clusters, n_features)\n",
      " |      Coordinates of cluster centers. If the algorithm stops before fully\n",
      " |      converging (see ``tol`` and ``max_iter``), these will not be\n",
      " |      consistent with ``labels_``.\n",
      " |  \n",
      " |  labels_ : ndarray of shape (n_samples,)\n",
      " |      Labels of each point\n",
      " |  \n",
      " |  inertia_ : float\n",
      " |      Sum of squared distances of samples to their closest cluster center.\n",
      " |  \n",
      " |  n_iter_ : int\n",
      " |      Number of iterations run.\n",
      " |  \n",
      " |  See Also\n",
      " |  --------\n",
      " |  MiniBatchKMeans : Alternative online implementation that does incremental\n",
      " |      updates of the centers positions using mini-batches.\n",
      " |      For large scale learning (say n_samples > 10k) MiniBatchKMeans is\n",
      " |      probably much faster than the default batch implementation.\n",
      " |  \n",
      " |  Notes\n",
      " |  -----\n",
      " |  The k-means problem is solved using either Lloyd's or Elkan's algorithm.\n",
      " |  \n",
      " |  The average complexity is given by O(k n T), were n is the number of\n",
      " |  samples and T is the number of iteration.\n",
      " |  \n",
      " |  The worst case complexity is given by O(n^(k+2/p)) with\n",
      " |  n = n_samples, p = n_features. (D. Arthur and S. Vassilvitskii,\n",
      " |  'How slow is the k-means method?' SoCG2006)\n",
      " |  \n",
      " |  In practice, the k-means algorithm is very fast (one of the fastest\n",
      " |  clustering algorithms available), but it falls in local minima. That's why\n",
      " |  it can be useful to restart it several times.\n",
      " |  \n",
      " |  If the algorithm stops before fully converging (because of ``tol`` or\n",
      " |  ``max_iter``), ``labels_`` and ``cluster_centers_`` will not be consistent,\n",
      " |  i.e. the ``cluster_centers_`` will not be the means of the points in each\n",
      " |  cluster. Also, the estimator will reassign ``labels_`` after the last\n",
      " |  iteration to make ``labels_`` consistent with ``predict`` on the training\n",
      " |  set.\n",
      " |  \n",
      " |  Examples\n",
      " |  --------\n",
      " |  \n",
      " |  >>> from sklearn.cluster import KMeans\n",
      " |  >>> import numpy as np\n",
      " |  >>> X = np.array([[1, 2], [1, 4], [1, 0],\n",
      " |  ...               [10, 2], [10, 4], [10, 0]])\n",
      " |  >>> kmeans = KMeans(n_clusters=2, random_state=0).fit(X)\n",
      " |  >>> kmeans.labels_\n",
      " |  array([1, 1, 1, 0, 0, 0], dtype=int32)\n",
      " |  >>> kmeans.predict([[0, 0], [12, 3]])\n",
      " |  array([1, 0], dtype=int32)\n",
      " |  >>> kmeans.cluster_centers_\n",
      " |  array([[10.,  2.],\n",
      " |         [ 1.,  2.]])\n",
      " |  \n",
      " |  Method resolution order:\n",
      " |      KMeans\n",
      " |      sklearn.base.TransformerMixin\n",
      " |      sklearn.base.ClusterMixin\n",
      " |      sklearn.base.BaseEstimator\n",
      " |      builtins.object\n",
      " |  \n",
      " |  Methods defined here:\n",
      " |  \n",
      " |  __init__(self, n_clusters=8, *, init='k-means++', n_init=10, max_iter=300, tol=0.0001, precompute_distances='deprecated', verbose=0, random_state=None, copy_x=True, n_jobs='deprecated', algorithm='auto')\n",
      " |      Initialize self.  See help(type(self)) for accurate signature.\n",
      " |  \n",
      " |  fit(self, X, y=None, sample_weight=None)\n",
      " |      Compute k-means clustering.\n",
      " |      \n",
      " |      Parameters\n",
      " |      ----------\n",
      " |      X : {array-like, sparse matrix} of shape (n_samples, n_features)\n",
      " |          Training instances to cluster. It must be noted that the data\n",
      " |          will be converted to C ordering, which will cause a memory\n",
      " |          copy if the given data is not C-contiguous.\n",
      " |          If a sparse matrix is passed, a copy will be made if it's not in\n",
      " |          CSR format.\n",
      " |      \n",
      " |      y : Ignored\n",
      " |          Not used, present here for API consistency by convention.\n",
      " |      \n",
      " |      sample_weight : array-like of shape (n_samples,), default=None\n",
      " |          The weights for each observation in X. If None, all observations\n",
      " |          are assigned equal weight.\n",
      " |      \n",
      " |          .. versionadded:: 0.20\n",
      " |      \n",
      " |      Returns\n",
      " |      -------\n",
      " |      self\n",
      " |          Fitted estimator.\n",
      " |  \n",
      " |  fit_predict(self, X, y=None, sample_weight=None)\n",
      " |      Compute cluster centers and predict cluster index for each sample.\n",
      " |      \n",
      " |      Convenience method; equivalent to calling fit(X) followed by\n",
      " |      predict(X).\n",
      " |      \n",
      " |      Parameters\n",
      " |      ----------\n",
      " |      X : {array-like, sparse matrix} of shape (n_samples, n_features)\n",
      " |          New data to transform.\n",
      " |      \n",
      " |      y : Ignored\n",
      " |          Not used, present here for API consistency by convention.\n",
      " |      \n",
      " |      sample_weight : array-like of shape (n_samples,), default=None\n",
      " |          The weights for each observation in X. If None, all observations\n",
      " |          are assigned equal weight.\n",
      " |      \n",
      " |      Returns\n",
      " |      -------\n",
      " |      labels : ndarray of shape (n_samples,)\n",
      " |          Index of the cluster each sample belongs to.\n",
      " |  \n",
      " |  fit_transform(self, X, y=None, sample_weight=None)\n",
      " |      Compute clustering and transform X to cluster-distance space.\n",
      " |      \n",
      " |      Equivalent to fit(X).transform(X), but more efficiently implemented.\n",
      " |      \n",
      " |      Parameters\n",
      " |      ----------\n",
      " |      X : {array-like, sparse matrix} of shape (n_samples, n_features)\n",
      " |          New data to transform.\n",
      " |      \n",
      " |      y : Ignored\n",
      " |          Not used, present here for API consistency by convention.\n",
      " |      \n",
      " |      sample_weight : array-like of shape (n_samples,), default=None\n",
      " |          The weights for each observation in X. If None, all observations\n",
      " |          are assigned equal weight.\n",
      " |      \n",
      " |      Returns\n",
      " |      -------\n",
      " |      X_new : ndarray of shape (n_samples, n_clusters)\n",
      " |          X transformed in the new space.\n",
      " |  \n",
      " |  predict(self, X, sample_weight=None)\n",
      " |      Predict the closest cluster each sample in X belongs to.\n",
      " |      \n",
      " |      In the vector quantization literature, `cluster_centers_` is called\n",
      " |      the code book and each value returned by `predict` is the index of\n",
      " |      the closest code in the code book.\n",
      " |      \n",
      " |      Parameters\n",
      " |      ----------\n",
      " |      X : {array-like, sparse matrix} of shape (n_samples, n_features)\n",
      " |          New data to predict.\n",
      " |      \n",
      " |      sample_weight : array-like of shape (n_samples,), default=None\n",
      " |          The weights for each observation in X. If None, all observations\n",
      " |          are assigned equal weight.\n",
      " |      \n",
      " |      Returns\n",
      " |      -------\n",
      " |      labels : ndarray of shape (n_samples,)\n",
      " |          Index of the cluster each sample belongs to.\n",
      " |  \n",
      " |  score(self, X, y=None, sample_weight=None)\n",
      " |      Opposite of the value of X on the K-means objective.\n",
      " |      \n",
      " |      Parameters\n",
      " |      ----------\n",
      " |      X : {array-like, sparse matrix} of shape (n_samples, n_features)\n",
      " |          New data.\n",
      " |      \n",
      " |      y : Ignored\n",
      " |          Not used, present here for API consistency by convention.\n",
      " |      \n",
      " |      sample_weight : array-like of shape (n_samples,), default=None\n",
      " |          The weights for each observation in X. If None, all observations\n",
      " |          are assigned equal weight.\n",
      " |      \n",
      " |      Returns\n",
      " |      -------\n",
      " |      score : float\n",
      " |          Opposite of the value of X on the K-means objective.\n",
      " |  \n",
      " |  transform(self, X)\n",
      " |      Transform X to a cluster-distance space.\n",
      " |      \n",
      " |      In the new space, each dimension is the distance to the cluster\n",
      " |      centers. Note that even if X is sparse, the array returned by\n",
      " |      `transform` will typically be dense.\n",
      " |      \n",
      " |      Parameters\n",
      " |      ----------\n",
      " |      X : {array-like, sparse matrix} of shape (n_samples, n_features)\n",
      " |          New data to transform.\n",
      " |      \n",
      " |      Returns\n",
      " |      -------\n",
      " |      X_new : ndarray of shape (n_samples, n_clusters)\n",
      " |          X transformed in the new space.\n",
      " |  \n",
      " |  ----------------------------------------------------------------------\n",
      " |  Data descriptors inherited from sklearn.base.TransformerMixin:\n",
      " |  \n",
      " |  __dict__\n",
      " |      dictionary for instance variables (if defined)\n",
      " |  \n",
      " |  __weakref__\n",
      " |      list of weak references to the object (if defined)\n",
      " |  \n",
      " |  ----------------------------------------------------------------------\n",
      " |  Methods inherited from sklearn.base.BaseEstimator:\n",
      " |  \n",
      " |  __getstate__(self)\n",
      " |  \n",
      " |  __repr__(self, N_CHAR_MAX=700)\n",
      " |      Return repr(self).\n",
      " |  \n",
      " |  __setstate__(self, state)\n",
      " |  \n",
      " |  get_params(self, deep=True)\n",
      " |      Get parameters for this estimator.\n",
      " |      \n",
      " |      Parameters\n",
      " |      ----------\n",
      " |      deep : bool, default=True\n",
      " |          If True, will return the parameters for this estimator and\n",
      " |          contained subobjects that are estimators.\n",
      " |      \n",
      " |      Returns\n",
      " |      -------\n",
      " |      params : dict\n",
      " |          Parameter names mapped to their values.\n",
      " |  \n",
      " |  set_params(self, **params)\n",
      " |      Set the parameters of this estimator.\n",
      " |      \n",
      " |      The method works on simple estimators as well as on nested objects\n",
      " |      (such as :class:`~sklearn.pipeline.Pipeline`). The latter have\n",
      " |      parameters of the form ``<component>__<parameter>`` so that it's\n",
      " |      possible to update each component of a nested object.\n",
      " |      \n",
      " |      Parameters\n",
      " |      ----------\n",
      " |      **params : dict\n",
      " |          Estimator parameters.\n",
      " |      \n",
      " |      Returns\n",
      " |      -------\n",
      " |      self : estimator instance\n",
      " |          Estimator instance.\n",
      "\n"
     ]
    }
   ],
   "source": [
    "help(KMeans)"
   ]
  },
  {
   "cell_type": "code",
   "execution_count": 133,
   "metadata": {},
   "outputs": [
    {
     "name": "stderr",
     "output_type": "stream",
     "text": [
      "D:\\ruanjian\\anaconda\\lib\\site-packages\\sklearn\\cluster\\_kmeans.py:792: FutureWarning: 'n_jobs' was deprecated in version 0.23 and will be removed in 1.0 (renaming of 0.25).\n",
      "  warnings.warn(\"'n_jobs' was deprecated in version 0.23 and will be\"\n"
     ]
    },
    {
     "data": {
      "text/plain": [
       "KMeans(n_clusters=16, n_init=100, n_jobs=-1)"
      ]
     },
     "execution_count": 133,
     "metadata": {},
     "output_type": "execute_result"
    }
   ],
   "source": [
    "model.fit(data)"
   ]
  },
  {
   "cell_type": "code",
   "execution_count": 134,
   "metadata": {},
   "outputs": [],
   "source": [
    "centroids = model.cluster_centers_"
   ]
  },
  {
   "cell_type": "code",
   "execution_count": 135,
   "metadata": {},
   "outputs": [
    {
     "data": {
      "text/plain": [
       "array([[1.10723491, 1.07228412, 0.92689193],\n",
       "       [0.33061291, 0.30057699, 0.30094311],\n",
       "       [1.04093617, 0.64843499, 0.28674232],\n",
       "       [0.09697283, 0.10498084, 0.09345621],\n",
       "       [0.66701702, 0.56921421, 0.50918919],\n",
       "       [0.79520496, 0.71405609, 0.63805825],\n",
       "       [0.98549708, 0.81387826, 0.51771664],\n",
       "       [0.19310978, 0.19230339, 0.18256021],\n",
       "       [0.52478081, 0.44190791, 0.40120761],\n",
       "       [0.43900327, 0.51928105, 0.73346405],\n",
       "       [1.09220331, 0.97414303, 0.71614726],\n",
       "       [0.86036797, 0.68959605, 0.38865659],\n",
       "       [0.93836938, 0.84604178, 0.83567388],\n",
       "       [0.64551111, 0.81752889, 0.98428444],\n",
       "       [0.7392026 , 0.5368229 , 0.24043495],\n",
       "       [0.52459281, 0.37595872, 0.20415417]])"
      ]
     },
     "execution_count": 135,
     "metadata": {},
     "output_type": "execute_result"
    }
   ],
   "source": [
    "centroids"
   ]
  },
  {
   "cell_type": "code",
   "execution_count": 136,
   "metadata": {},
   "outputs": [],
   "source": [
    "c = model.predict(data)"
   ]
  },
  {
   "cell_type": "code",
   "execution_count": 137,
   "metadata": {},
   "outputs": [
    {
     "data": {
      "text/plain": [
       "(16384,)"
      ]
     },
     "execution_count": 137,
     "metadata": {},
     "output_type": "execute_result"
    }
   ],
   "source": [
    "c.shape"
   ]
  },
  {
   "cell_type": "code",
   "execution_count": 138,
   "metadata": {},
   "outputs": [
    {
     "data": {
      "text/plain": [
       "(16, 3)"
      ]
     },
     "execution_count": 138,
     "metadata": {},
     "output_type": "execute_result"
    }
   ],
   "source": [
    "centroids.shape"
   ]
  },
  {
   "cell_type": "code",
   "execution_count": 139,
   "metadata": {},
   "outputs": [
    {
     "data": {
      "text/plain": [
       "(16384, 3)"
      ]
     },
     "execution_count": 139,
     "metadata": {},
     "output_type": "execute_result"
    }
   ],
   "source": [
    "centroids[c].shape"
   ]
  },
  {
   "cell_type": "code",
   "execution_count": 140,
   "metadata": {},
   "outputs": [],
   "source": [
    "commpressed = centroids[c].reshape((128, 128, 3))"
   ]
  },
  {
   "cell_type": "code",
   "execution_count": 141,
   "metadata": {},
   "outputs": [
    {
     "data": {
      "text/plain": [
       "array([[[0.97333333, 0.8       , 0.45777778],\n",
       "        [1.02222222, 0.82222222, 0.51555556],\n",
       "        [1.00444444, 0.82666667, 0.48888889],\n",
       "        ...,\n",
       "        [0.06222222, 0.06666667, 0.05777778],\n",
       "        [0.05777778, 0.06666667, 0.05333333],\n",
       "        [0.05333333, 0.06222222, 0.05333333]],\n",
       "\n",
       "       [[1.02222222, 0.85777778, 0.52888889],\n",
       "        [0.99555556, 0.85333333, 0.53333333],\n",
       "        [1.00444444, 0.85333333, 0.55111111],\n",
       "        ...,\n",
       "        [0.07111111, 0.07111111, 0.05777778],\n",
       "        [0.06222222, 0.06666667, 0.04444444],\n",
       "        [0.04888889, 0.06222222, 0.04      ]],\n",
       "\n",
       "       [[1.01333333, 0.84888889, 0.54666667],\n",
       "        [1.01333333, 0.84888889, 0.53777778],\n",
       "        [0.97777778, 0.82222222, 0.52444444],\n",
       "        ...,\n",
       "        [0.06222222, 0.07111111, 0.05777778],\n",
       "        [0.05777778, 0.05777778, 0.04888889],\n",
       "        [0.04888889, 0.06666667, 0.04444444]],\n",
       "\n",
       "       ...,\n",
       "\n",
       "       [[0.06666667, 0.08      , 0.07111111],\n",
       "        [0.08      , 0.09333333, 0.08      ],\n",
       "        [0.08      , 0.08444444, 0.07111111],\n",
       "        ...,\n",
       "        [0.36      , 0.2       , 0.2       ],\n",
       "        [0.31111111, 0.19111111, 0.15555556],\n",
       "        [0.32      , 0.22666667, 0.19111111]],\n",
       "\n",
       "       [[0.07111111, 0.07555556, 0.07555556],\n",
       "        [0.07555556, 0.08      , 0.08444444],\n",
       "        [0.08888889, 0.08444444, 0.08888889],\n",
       "        ...,\n",
       "        [0.35555556, 0.16888889, 0.17777778],\n",
       "        [0.30222222, 0.17333333, 0.17777778],\n",
       "        [0.26222222, 0.19111111, 0.18666667]],\n",
       "\n",
       "       [[0.06666667, 0.08444444, 0.08444444],\n",
       "        [0.08888889, 0.08888889, 0.08      ],\n",
       "        [0.08      , 0.08444444, 0.07555556],\n",
       "        ...,\n",
       "        [0.28888889, 0.19111111, 0.17333333],\n",
       "        [0.25777778, 0.16444444, 0.16888889],\n",
       "        [0.23111111, 0.17333333, 0.15111111]]])"
      ]
     },
     "execution_count": 141,
     "metadata": {},
     "output_type": "execute_result"
    }
   ],
   "source": [
    "pic"
   ]
  },
  {
   "cell_type": "code",
   "execution_count": 142,
   "metadata": {},
   "outputs": [
    {
     "data": {
      "text/plain": [
       "array([[[0.98549708, 0.81387826, 0.51771664],\n",
       "        [0.98549708, 0.81387826, 0.51771664],\n",
       "        [0.98549708, 0.81387826, 0.51771664],\n",
       "        ...,\n",
       "        [0.09697283, 0.10498084, 0.09345621],\n",
       "        [0.09697283, 0.10498084, 0.09345621],\n",
       "        [0.09697283, 0.10498084, 0.09345621]],\n",
       "\n",
       "       [[0.98549708, 0.81387826, 0.51771664],\n",
       "        [0.98549708, 0.81387826, 0.51771664],\n",
       "        [0.98549708, 0.81387826, 0.51771664],\n",
       "        ...,\n",
       "        [0.09697283, 0.10498084, 0.09345621],\n",
       "        [0.09697283, 0.10498084, 0.09345621],\n",
       "        [0.09697283, 0.10498084, 0.09345621]],\n",
       "\n",
       "       [[0.98549708, 0.81387826, 0.51771664],\n",
       "        [0.98549708, 0.81387826, 0.51771664],\n",
       "        [0.98549708, 0.81387826, 0.51771664],\n",
       "        ...,\n",
       "        [0.09697283, 0.10498084, 0.09345621],\n",
       "        [0.09697283, 0.10498084, 0.09345621],\n",
       "        [0.09697283, 0.10498084, 0.09345621]],\n",
       "\n",
       "       ...,\n",
       "\n",
       "       [[0.09697283, 0.10498084, 0.09345621],\n",
       "        [0.09697283, 0.10498084, 0.09345621],\n",
       "        [0.09697283, 0.10498084, 0.09345621],\n",
       "        ...,\n",
       "        [0.33061291, 0.30057699, 0.30094311],\n",
       "        [0.19310978, 0.19230339, 0.18256021],\n",
       "        [0.19310978, 0.19230339, 0.18256021]],\n",
       "\n",
       "       [[0.09697283, 0.10498084, 0.09345621],\n",
       "        [0.09697283, 0.10498084, 0.09345621],\n",
       "        [0.09697283, 0.10498084, 0.09345621],\n",
       "        ...,\n",
       "        [0.19310978, 0.19230339, 0.18256021],\n",
       "        [0.19310978, 0.19230339, 0.18256021],\n",
       "        [0.19310978, 0.19230339, 0.18256021]],\n",
       "\n",
       "       [[0.09697283, 0.10498084, 0.09345621],\n",
       "        [0.09697283, 0.10498084, 0.09345621],\n",
       "        [0.09697283, 0.10498084, 0.09345621],\n",
       "        ...,\n",
       "        [0.19310978, 0.19230339, 0.18256021],\n",
       "        [0.19310978, 0.19230339, 0.18256021],\n",
       "        [0.19310978, 0.19230339, 0.18256021]]])"
      ]
     },
     "execution_count": 142,
     "metadata": {},
     "output_type": "execute_result"
    }
   ],
   "source": [
    "commpressed"
   ]
  },
  {
   "cell_type": "code",
   "execution_count": 143,
   "metadata": {},
   "outputs": [
    {
     "name": "stderr",
     "output_type": "stream",
     "text": [
      "Clipping input data to the valid range for imshow with RGB data ([0..1] for floats or [0..255] for integers).\n",
      "Clipping input data to the valid range for imshow with RGB data ([0..1] for floats or [0..255] for integers).\n"
     ]
    },
    {
     "data": {
      "image/png": "[encoded data removed]",
      "text/plain": [
       "<Figure size 432x288 with 2 Axes>"
      ]
     },
     "metadata": {
      "needs_background": "light"
     },
     "output_type": "display_data"
    }
   ],
   "source": [
    "fig, ax = plt.subplots(1, 2)\n",
    "ax[0].imshow(pic)\n",
    "ax[1].imshow(commpressed)\n",
    "plt.show()"
   ]
  },
  {
   "cell_type": "markdown",
   "metadata": {},
   "source": [
    "### 高维度数据降维\n",
    "    T-SNE"
   ]
  },
  {
   "cell_type": "code",
   "execution_count": 144,
   "metadata": {},
   "outputs": [],
   "source": [
    "from sklearn.manifold import TSNE"
   ]
  },
  {
   "cell_type": "code",
   "execution_count": 153,
   "metadata": {},
   "outputs": [],
   "source": [
    "model = TSNE(learning_rate=100)  # 正常 50 - 200\n",
    "transformed = model.fit_transform(data2)"
   ]
  },
  {
   "cell_type": "code",
   "execution_count": 154,
   "metadata": {},
   "outputs": [
    {
     "data": {
      "text/plain": [
       "<matplotlib.collections.PathCollection at 0x23039fcae50>"
      ]
     },
     "execution_count": 154,
     "metadata": {},
     "output_type": "execute_result"
    },
    {
     "data": {
      "image/png": "[encoded data removed]",
      "text/plain": [
       "<Figure size 432x288 with 1 Axes>"
      ]
     },
     "metadata": {
      "needs_background": "light"
     },
     "output_type": "display_data"
    }
   ],
   "source": [
    "x = transformed[:, 0]\n",
    "y = transformed[:, 1]\n",
    "plt.scatter(x, y, c=color_list)"
   ]
  },
  {
   "cell_type": "code",
   "execution_count": 148,
   "metadata": {},
   "outputs": [
    {
     "data": {
      "text/plain": [
       "array([[0.97333333, 0.8       , 0.45777778],\n",
       "       [1.02222222, 0.82222222, 0.51555556],\n",
       "       [1.00444444, 0.82666667, 0.48888889],\n",
       "       ...,\n",
       "       [0.28888889, 0.19111111, 0.17333333],\n",
       "       [0.25777778, 0.16444444, 0.16888889],\n",
       "       [0.23111111, 0.17333333, 0.15111111]])"
      ]
     },
     "execution_count": 148,
     "metadata": {},
     "output_type": "execute_result"
    }
   ],
   "source": [
    "data"
   ]
  },
  {
   "cell_type": "code",
   "execution_count": 151,
   "metadata": {},
   "outputs": [],
   "source": [
    "data = pd.read_csv('./column_2C_weka.csv')\n",
    "color_list = ['red' if i == 'Abnormal' else 'green' for i in data.loc[:, 'class']]"
   ]
  },
  {
   "cell_type": "code",
   "execution_count": 152,
   "metadata": {},
   "outputs": [],
   "source": [
    "data2 = data.loc[:, ['pelvic_radius', 'degree_spondylolisthesis']]"
   ]
  },
  {
   "cell_type": "code",
   "execution_count": null,
   "metadata": {},
   "outputs": [],
   "source": []
  },
  {
   "cell_type": "code",
   "execution_count": 150,
   "metadata": {},
   "outputs": [
    {
     "data": {
      "text/html": [
       "<div>\n",
       "<style scoped>\n",
       "    .dataframe tbody tr th:only-of-type {\n",
       "        vertical-align: middle;\n",
       "    }\n",
       "\n",
       "    .dataframe tbody tr th {\n",
       "        vertical-align: top;\n",
       "    }\n",
       "\n",
       "    .dataframe thead th {\n",
       "        text-align: right;\n",
       "    }\n",
       "</style>\n",
       "<table border=\"1\" class=\"dataframe\">\n",
       "  <thead>\n",
       "    <tr style=\"text-align: right;\">\n",
       "      <th></th>\n",
       "      <th>pelvic_incidence</th>\n",
       "      <th>pelvic_tilt numeric</th>\n",
       "      <th>lumbar_lordosis_angle</th>\n",
       "      <th>sacral_slope</th>\n",
       "      <th>pelvic_radius</th>\n",
       "      <th>degree_spondylolisthesis</th>\n",
       "      <th>class</th>\n",
       "    </tr>\n",
       "  </thead>\n",
       "  <tbody>\n",
       "    <tr>\n",
       "      <th>0</th>\n",
       "      <td>63.027818</td>\n",
       "      <td>22.552586</td>\n",
       "      <td>39.609117</td>\n",
       "      <td>40.475232</td>\n",
       "      <td>98.672917</td>\n",
       "      <td>-0.254400</td>\n",
       "      <td>Abnormal</td>\n",
       "    </tr>\n",
       "    <tr>\n",
       "      <th>1</th>\n",
       "      <td>39.056951</td>\n",
       "      <td>10.060991</td>\n",
       "      <td>25.015378</td>\n",
       "      <td>28.995960</td>\n",
       "      <td>114.405425</td>\n",
       "      <td>4.564259</td>\n",
       "      <td>Abnormal</td>\n",
       "    </tr>\n",
       "    <tr>\n",
       "      <th>2</th>\n",
       "      <td>68.832021</td>\n",
       "      <td>22.218482</td>\n",
       "      <td>50.092194</td>\n",
       "      <td>46.613539</td>\n",
       "      <td>105.985135</td>\n",
       "      <td>-3.530317</td>\n",
       "      <td>Abnormal</td>\n",
       "    </tr>\n",
       "    <tr>\n",
       "      <th>3</th>\n",
       "      <td>69.297008</td>\n",
       "      <td>24.652878</td>\n",
       "      <td>44.311238</td>\n",
       "      <td>44.644130</td>\n",
       "      <td>101.868495</td>\n",
       "      <td>11.211523</td>\n",
       "      <td>Abnormal</td>\n",
       "    </tr>\n",
       "    <tr>\n",
       "      <th>4</th>\n",
       "      <td>49.712859</td>\n",
       "      <td>9.652075</td>\n",
       "      <td>28.317406</td>\n",
       "      <td>40.060784</td>\n",
       "      <td>108.168725</td>\n",
       "      <td>7.918501</td>\n",
       "      <td>Abnormal</td>\n",
       "    </tr>\n",
       "    <tr>\n",
       "      <th>...</th>\n",
       "      <td>...</td>\n",
       "      <td>...</td>\n",
       "      <td>...</td>\n",
       "      <td>...</td>\n",
       "      <td>...</td>\n",
       "      <td>...</td>\n",
       "      <td>...</td>\n",
       "    </tr>\n",
       "    <tr>\n",
       "      <th>305</th>\n",
       "      <td>47.903565</td>\n",
       "      <td>13.616688</td>\n",
       "      <td>36.000000</td>\n",
       "      <td>34.286877</td>\n",
       "      <td>117.449062</td>\n",
       "      <td>-4.245395</td>\n",
       "      <td>Normal</td>\n",
       "    </tr>\n",
       "    <tr>\n",
       "      <th>306</th>\n",
       "      <td>53.936748</td>\n",
       "      <td>20.721496</td>\n",
       "      <td>29.220534</td>\n",
       "      <td>33.215251</td>\n",
       "      <td>114.365845</td>\n",
       "      <td>-0.421010</td>\n",
       "      <td>Normal</td>\n",
       "    </tr>\n",
       "    <tr>\n",
       "      <th>307</th>\n",
       "      <td>61.446597</td>\n",
       "      <td>22.694968</td>\n",
       "      <td>46.170347</td>\n",
       "      <td>38.751628</td>\n",
       "      <td>125.670725</td>\n",
       "      <td>-2.707880</td>\n",
       "      <td>Normal</td>\n",
       "    </tr>\n",
       "    <tr>\n",
       "      <th>308</th>\n",
       "      <td>45.252792</td>\n",
       "      <td>8.693157</td>\n",
       "      <td>41.583126</td>\n",
       "      <td>36.559635</td>\n",
       "      <td>118.545842</td>\n",
       "      <td>0.214750</td>\n",
       "      <td>Normal</td>\n",
       "    </tr>\n",
       "    <tr>\n",
       "      <th>309</th>\n",
       "      <td>33.841641</td>\n",
       "      <td>5.073991</td>\n",
       "      <td>36.641233</td>\n",
       "      <td>28.767649</td>\n",
       "      <td>123.945244</td>\n",
       "      <td>-0.199249</td>\n",
       "      <td>Normal</td>\n",
       "    </tr>\n",
       "  </tbody>\n",
       "</table>\n",
       "<p>310 rows × 7 columns</p>\n",
       "</div>"
      ],
      "text/plain": [
       "     pelvic_incidence  pelvic_tilt numeric  lumbar_lordosis_angle  \\\n",
       "0           63.027818            22.552586              39.609117   \n",
       "1           39.056951            10.060991              25.015378   \n",
       "2           68.832021            22.218482              50.092194   \n",
       "3           69.297008            24.652878              44.311238   \n",
       "4           49.712859             9.652075              28.317406   \n",
       "..                ...                  ...                    ...   \n",
       "305         47.903565            13.616688              36.000000   \n",
       "306         53.936748            20.721496              29.220534   \n",
       "307         61.446597            22.694968              46.170347   \n",
       "308         45.252792             8.693157              41.583126   \n",
       "309         33.841641             5.073991              36.641233   \n",
       "\n",
       "     sacral_slope  pelvic_radius  degree_spondylolisthesis     class  \n",
       "0       40.475232      98.672917                 -0.254400  Abnormal  \n",
       "1       28.995960     114.405425                  4.564259  Abnormal  \n",
       "2       46.613539     105.985135                 -3.530317  Abnormal  \n",
       "3       44.644130     101.868495                 11.211523  Abnormal  \n",
       "4       40.060784     108.168725                  7.918501  Abnormal  \n",
       "..            ...            ...                       ...       ...  \n",
       "305     34.286877     117.449062                 -4.245395    Normal  \n",
       "306     33.215251     114.365845                 -0.421010    Normal  \n",
       "307     38.751628     125.670725                 -2.707880    Normal  \n",
       "308     36.559635     118.545842                  0.214750    Normal  \n",
       "309     28.767649     123.945244                 -0.199249    Normal  \n",
       "\n",
       "[310 rows x 7 columns]"
      ]
     },
     "execution_count": 150,
     "metadata": {},
     "output_type": "execute_result"
    }
   ],
   "source": [
    "data"
   ]
  },
  {
   "cell_type": "markdown",
   "metadata": {},
   "source": [
    "### PCA\n",
    "     1. 去相关\n",
    "      旋转要与轴对齐的数据样本\n",
    "      平移数据样本 使其均值为零\n",
    "      没有信息丢失\n",
    "      fit():学习如何移动样本\n",
    "      transform() 转换\n",
    "     2. 得到的PCA特征不是线性相关的\n",
    "     3. 主成分:方差方向"
   ]
  },
  {
   "cell_type": "code",
   "execution_count": 160,
   "metadata": {},
   "outputs": [],
   "source": [
    "from sklearn.decomposition import PCA\n",
    "model = PCA()\n",
    "a = model.fit(data3)"
   ]
  },
  {
   "cell_type": "code",
   "execution_count": 161,
   "metadata": {},
   "outputs": [
    {
     "data": {
      "text/plain": [
       "array([[ 3.23645647e-01,  1.13192291e-01,  3.03674740e-01,\n",
       "         2.10453357e-01, -2.99598300e-02,  8.63153779e-01],\n",
       "       [-4.76634849e-01, -9.85632787e-02, -5.32783979e-01,\n",
       "        -3.78071570e-01,  3.21809199e-01,  4.82438036e-01],\n",
       "       [-1.54481282e-03, -2.64657410e-01, -4.96541893e-01,\n",
       "         2.63112598e-01, -7.74612852e-01,  1.18940778e-01],\n",
       "       [ 3.73677251e-01,  7.54113757e-01, -3.39411757e-01,\n",
       "        -3.80436506e-01, -1.75106042e-01, -3.29143086e-02],\n",
       "       [-4.41703869e-01,  7.35414748e-02,  5.12024113e-01,\n",
       "        -5.15245344e-01, -5.14639730e-01,  8.35992525e-02],\n",
       "       [ 5.77350269e-01, -5.77350269e-01, -1.08930072e-11,\n",
       "        -5.77350269e-01, -3.59059872e-12,  3.06729795e-12]])"
      ]
     },
     "execution_count": 161,
     "metadata": {},
     "output_type": "execute_result"
    }
   ],
   "source": [
    "transformed = a.transform(data3)\n",
    "model.components_"
   ]
  },
  {
   "cell_type": "code",
   "execution_count": 165,
   "metadata": {},
   "outputs": [
    {
     "data": {
      "text/plain": [
       "Pipeline(steps=[('standardscaler', StandardScaler()), ('pca', PCA())])"
      ]
     },
     "execution_count": 165,
     "metadata": {},
     "output_type": "execute_result"
    }
   ],
   "source": [
    "# PCA方差\n",
    "scaler = StandardScaler()\n",
    "pca = PCA()\n",
    "pipeline = make_pipeline(scaler, pca)\n",
    "pipeline.fit(data3)"
   ]
  },
  {
   "cell_type": "code",
   "execution_count": 167,
   "metadata": {},
   "outputs": [
    {
     "data": {
      "image/png": "[encoded data removed]",
      "text/plain": [
       "<Figure size 432x288 with 1 Axes>"
      ]
     },
     "metadata": {
      "needs_background": "light"
     },
     "output_type": "display_data"
    }
   ],
   "source": [
    "plt.bar(range(pca.n_components_), pca.explained_variance_)\n",
    "plt.xlabel('PCA Feature')\n",
    "plt.ylabel('Variance')\n",
    "plt.show()"
   ]
  },
  {
   "cell_type": "code",
   "execution_count": 168,
   "metadata": {},
   "outputs": [
    {
     "data": {
      "text/html": [
       "<div>\n",
       "<style scoped>\n",
       "    .dataframe tbody tr th:only-of-type {\n",
       "        vertical-align: middle;\n",
       "    }\n",
       "\n",
       "    .dataframe tbody tr th {\n",
       "        vertical-align: top;\n",
       "    }\n",
       "\n",
       "    .dataframe thead th {\n",
       "        text-align: right;\n",
       "    }\n",
       "</style>\n",
       "<table border=\"1\" class=\"dataframe\">\n",
       "  <thead>\n",
       "    <tr style=\"text-align: right;\">\n",
       "      <th></th>\n",
       "      <th>pelvic_incidence</th>\n",
       "      <th>pelvic_tilt numeric</th>\n",
       "      <th>lumbar_lordosis_angle</th>\n",
       "      <th>sacral_slope</th>\n",
       "      <th>pelvic_radius</th>\n",
       "      <th>degree_spondylolisthesis</th>\n",
       "    </tr>\n",
       "  </thead>\n",
       "  <tbody>\n",
       "    <tr>\n",
       "      <th>0</th>\n",
       "      <td>63.027818</td>\n",
       "      <td>22.552586</td>\n",
       "      <td>39.609117</td>\n",
       "      <td>40.475232</td>\n",
       "      <td>98.672917</td>\n",
       "      <td>-0.254400</td>\n",
       "    </tr>\n",
       "    <tr>\n",
       "      <th>1</th>\n",
       "      <td>39.056951</td>\n",
       "      <td>10.060991</td>\n",
       "      <td>25.015378</td>\n",
       "      <td>28.995960</td>\n",
       "      <td>114.405425</td>\n",
       "      <td>4.564259</td>\n",
       "    </tr>\n",
       "    <tr>\n",
       "      <th>2</th>\n",
       "      <td>68.832021</td>\n",
       "      <td>22.218482</td>\n",
       "      <td>50.092194</td>\n",
       "      <td>46.613539</td>\n",
       "      <td>105.985135</td>\n",
       "      <td>-3.530317</td>\n",
       "    </tr>\n",
       "    <tr>\n",
       "      <th>3</th>\n",
       "      <td>69.297008</td>\n",
       "      <td>24.652878</td>\n",
       "      <td>44.311238</td>\n",
       "      <td>44.644130</td>\n",
       "      <td>101.868495</td>\n",
       "      <td>11.211523</td>\n",
       "    </tr>\n",
       "    <tr>\n",
       "      <th>4</th>\n",
       "      <td>49.712859</td>\n",
       "      <td>9.652075</td>\n",
       "      <td>28.317406</td>\n",
       "      <td>40.060784</td>\n",
       "      <td>108.168725</td>\n",
       "      <td>7.918501</td>\n",
       "    </tr>\n",
       "    <tr>\n",
       "      <th>...</th>\n",
       "      <td>...</td>\n",
       "      <td>...</td>\n",
       "      <td>...</td>\n",
       "      <td>...</td>\n",
       "      <td>...</td>\n",
       "      <td>...</td>\n",
       "    </tr>\n",
       "    <tr>\n",
       "      <th>305</th>\n",
       "      <td>47.903565</td>\n",
       "      <td>13.616688</td>\n",
       "      <td>36.000000</td>\n",
       "      <td>34.286877</td>\n",
       "      <td>117.449062</td>\n",
       "      <td>-4.245395</td>\n",
       "    </tr>\n",
       "    <tr>\n",
       "      <th>306</th>\n",
       "      <td>53.936748</td>\n",
       "      <td>20.721496</td>\n",
       "      <td>29.220534</td>\n",
       "      <td>33.215251</td>\n",
       "      <td>114.365845</td>\n",
       "      <td>-0.421010</td>\n",
       "    </tr>\n",
       "    <tr>\n",
       "      <th>307</th>\n",
       "      <td>61.446597</td>\n",
       "      <td>22.694968</td>\n",
       "      <td>46.170347</td>\n",
       "      <td>38.751628</td>\n",
       "      <td>125.670725</td>\n",
       "      <td>-2.707880</td>\n",
       "    </tr>\n",
       "    <tr>\n",
       "      <th>308</th>\n",
       "      <td>45.252792</td>\n",
       "      <td>8.693157</td>\n",
       "      <td>41.583126</td>\n",
       "      <td>36.559635</td>\n",
       "      <td>118.545842</td>\n",
       "      <td>0.214750</td>\n",
       "    </tr>\n",
       "    <tr>\n",
       "      <th>309</th>\n",
       "      <td>33.841641</td>\n",
       "      <td>5.073991</td>\n",
       "      <td>36.641233</td>\n",
       "      <td>28.767649</td>\n",
       "      <td>123.945244</td>\n",
       "      <td>-0.199249</td>\n",
       "    </tr>\n",
       "  </tbody>\n",
       "</table>\n",
       "<p>310 rows × 6 columns</p>\n",
       "</div>"
      ],
      "text/plain": [
       "     pelvic_incidence  pelvic_tilt numeric  lumbar_lordosis_angle  \\\n",
       "0           63.027818            22.552586              39.609117   \n",
       "1           39.056951            10.060991              25.015378   \n",
       "2           68.832021            22.218482              50.092194   \n",
       "3           69.297008            24.652878              44.311238   \n",
       "4           49.712859             9.652075              28.317406   \n",
       "..                ...                  ...                    ...   \n",
       "305         47.903565            13.616688              36.000000   \n",
       "306         53.936748            20.721496              29.220534   \n",
       "307         61.446597            22.694968              46.170347   \n",
       "308         45.252792             8.693157              41.583126   \n",
       "309         33.841641             5.073991              36.641233   \n",
       "\n",
       "     sacral_slope  pelvic_radius  degree_spondylolisthesis  \n",
       "0       40.475232      98.672917                 -0.254400  \n",
       "1       28.995960     114.405425                  4.564259  \n",
       "2       46.613539     105.985135                 -3.530317  \n",
       "3       44.644130     101.868495                 11.211523  \n",
       "4       40.060784     108.168725                  7.918501  \n",
       "..            ...            ...                       ...  \n",
       "305     34.286877     117.449062                 -4.245395  \n",
       "306     33.215251     114.365845                 -0.421010  \n",
       "307     38.751628     125.670725                 -2.707880  \n",
       "308     36.559635     118.545842                  0.214750  \n",
       "309     28.767649     123.945244                 -0.199249  \n",
       "\n",
       "[310 rows x 6 columns]"
      ]
     },
     "execution_count": 168,
     "metadata": {},
     "output_type": "execute_result"
    }
   ],
   "source": [
    "data3\n",
    "# 固有维度 = 方差显著的PCA特征个数"
   ]
  },
  {
   "cell_type": "code",
   "execution_count": 169,
   "metadata": {},
   "outputs": [],
   "source": [
    "def pca(X):\n",
    "    X = (X - X.mean()) / X.std()\n",
    "    \n",
    "    # 计算协方差矩阵\n",
    "    X = np.matrix(X)\n",
    "    cov = (X.T * X) / X.shape[0]\n",
    "    \n",
    "    U, S, V = np.linalg.svd(cov)\n",
    "    return U, S, V"
   ]
  },
  {
   "cell_type": "code",
   "execution_count": 171,
   "metadata": {},
   "outputs": [],
   "source": [
    "U, S, V = pca(data3) # 在确保数据被归一化之后  输出 原始数据的协方差均值的奇异值分解"
   ]
  },
  {
   "cell_type": "code",
   "execution_count": 175,
   "metadata": {},
   "outputs": [
    {
     "data": {
      "text/plain": [
       "matrix([[-5.35141704e-01, -2.19368199e-03,  9.60691033e-02,\n",
       "         -1.02798971e-01,  4.23458331e-01, -7.17289820e-01],\n",
       "        [-3.23584608e-01,  5.27545439e-01,  6.48700760e-01,\n",
       "         -6.44118277e-03,  1.50562387e-01,  4.16492034e-01],\n",
       "        [-4.57969569e-01,  9.28751348e-02, -1.52338410e-01,\n",
       "         -5.48099706e-01, -6.76770127e-01,  1.45680911e-11],\n",
       "        [-4.45905809e-01, -3.96157338e-01, -3.60312716e-01,\n",
       "         -1.27200929e-01,  4.31500108e-01,  5.58596187e-01],\n",
       "        [ 1.43496674e-01,  7.27755634e-01, -5.85990593e-01,\n",
       "         -1.74212977e-01,  2.75763131e-01,  3.44671589e-12],\n",
       "        [-4.23977530e-01,  1.62776864e-01, -2.71184129e-01,\n",
       "          8.01528139e-01, -2.78852214e-01, -8.30350457e-12]])"
      ]
     },
     "execution_count": 175,
     "metadata": {},
     "output_type": "execute_result"
    }
   ],
   "source": [
    "U # 主成分 "
   ]
  },
  {
   "cell_type": "code",
   "execution_count": 176,
   "metadata": {},
   "outputs": [],
   "source": [
    "def project_data(X, U, K):\n",
    "    U_reduced = U[:, :K]\n",
    "    return np.dot(X, U_reduced)\n"
   ]
  },
  {
   "cell_type": "code",
   "execution_count": 180,
   "metadata": {},
   "outputs": [],
   "source": [
    "Z = project_data(data3, U, 1)"
   ]
  },
  {
   "cell_type": "code",
   "execution_count": 179,
   "metadata": {},
   "outputs": [
    {
     "data": {
      "text/plain": [
       "(310, 6)"
      ]
     },
     "execution_count": 179,
     "metadata": {},
     "output_type": "execute_result"
    }
   ],
   "source": [
    "data3.shape"
   ]
  },
  {
   "cell_type": "code",
   "execution_count": 181,
   "metadata": {},
   "outputs": [
    {
     "data": {
      "text/plain": [
       "matrix([[ -62.94729921],\n",
       "        [ -34.06067911],\n",
       "        [ -71.04510224],\n",
       "        [ -75.39693021],\n",
       "        [ -48.39394792],\n",
       "        [ -31.53500644],\n",
       "        [ -52.73853569],\n",
       "        [ -35.13578767],\n",
       "        [ -48.55263174],\n",
       "        [ -42.78271276],\n",
       "        [ -42.61089872],\n",
       "        [ -18.55629691],\n",
       "        [ -50.26783662],\n",
       "        [ -52.27633008],\n",
       "        [ -60.4637003 ],\n",
       "        [ -42.9634045 ],\n",
       "        [ -68.73776238],\n",
       "        [ -28.23482475],\n",
       "        [ -33.44996933],\n",
       "        [ -35.97811169],\n",
       "        [ -42.12292807],\n",
       "        [ -53.69227163],\n",
       "        [ -75.04093979],\n",
       "        [ -37.91041096],\n",
       "        [ -27.98066592],\n",
       "        [ -49.25806094],\n",
       "        [  -8.50231038],\n",
       "        [ -50.3928153 ],\n",
       "        [ -38.47707904],\n",
       "        [ -68.00093478],\n",
       "        [ -55.95821629],\n",
       "        [ -47.40746475],\n",
       "        [ -40.10552926],\n",
       "        [ -37.88201205],\n",
       "        [ -59.37672666],\n",
       "        [ -26.57979878],\n",
       "        [ -30.85351277],\n",
       "        [ -22.28010237],\n",
       "        [ -56.59464607],\n",
       "        [ -49.52155434],\n",
       "        [ -23.71584189],\n",
       "        [ -42.12920075],\n",
       "        [ -50.2939747 ],\n",
       "        [ -65.82857736],\n",
       "        [ -64.14693016],\n",
       "        [ -50.73588126],\n",
       "        [ -47.17173262],\n",
       "        [ -34.44308546],\n",
       "        [ -35.13904551],\n",
       "        [ -31.85008651],\n",
       "        [ -52.18945624],\n",
       "        [ -67.25486496],\n",
       "        [ -46.17665666],\n",
       "        [ -32.38207884],\n",
       "        [ -32.84360443],\n",
       "        [ -50.48980802],\n",
       "        [ -40.72398332],\n",
       "        [ -45.51610489],\n",
       "        [ -36.85546851],\n",
       "        [ -47.22668981],\n",
       "        [-108.31808777],\n",
       "        [-142.42111621],\n",
       "        [ -59.35549029],\n",
       "        [ -98.0519516 ],\n",
       "        [ -96.65370655],\n",
       "        [-100.45506176],\n",
       "        [ -96.3701462 ],\n",
       "        [-116.95479675],\n",
       "        [ -75.78822972],\n",
       "        [ -78.36021839],\n",
       "        [ -89.38273146],\n",
       "        [-126.85809535],\n",
       "        [-120.68041069],\n",
       "        [ -69.20269959],\n",
       "        [-114.02478606],\n",
       "        [-135.53971506],\n",
       "        [-139.39868284],\n",
       "        [ -88.89416334],\n",
       "        [ -89.65787037],\n",
       "        [ -55.55209691],\n",
       "        [-117.64497675],\n",
       "        [-110.65785976],\n",
       "        [-109.66068912],\n",
       "        [-118.06502622],\n",
       "        [ -99.31035216],\n",
       "        [ -49.19247077],\n",
       "        [ -75.83805078],\n",
       "        [ -60.42881568],\n",
       "        [ -64.62964776],\n",
       "        [ -81.29395128],\n",
       "        [ -99.76920925],\n",
       "        [ -93.04715984],\n",
       "        [-128.9957754 ],\n",
       "        [ -96.66328338],\n",
       "        [-127.60840858],\n",
       "        [-118.46940375],\n",
       "        [-143.61169902],\n",
       "        [-107.20690274],\n",
       "        [-124.73345421],\n",
       "        [ -71.00835059],\n",
       "        [-104.40679688],\n",
       "        [-104.98995462],\n",
       "        [ -91.58776463],\n",
       "        [ -67.15300287],\n",
       "        [-123.97651939],\n",
       "        [ -69.97754647],\n",
       "        [ -96.4951577 ],\n",
       "        [-120.61363321],\n",
       "        [ -92.2411978 ],\n",
       "        [ -93.36084584],\n",
       "        [ -90.64923359],\n",
       "        [-129.9658236 ],\n",
       "        [ -68.70171271],\n",
       "        [ -96.13644746],\n",
       "        [-130.93393995],\n",
       "        [-310.50338122],\n",
       "        [-103.94514494],\n",
       "        [-110.35590563],\n",
       "        [ -69.66780512],\n",
       "        [ -74.67389596],\n",
       "        [ -71.24133944],\n",
       "        [-135.64297928],\n",
       "        [-109.50490884],\n",
       "        [ -96.20325154],\n",
       "        [ -86.74743525],\n",
       "        [ -72.81036927],\n",
       "        [ -90.79517885],\n",
       "        [-115.09055642],\n",
       "        [-127.77504653],\n",
       "        [ -97.50653859],\n",
       "        [ -59.77453435],\n",
       "        [ -83.86465759],\n",
       "        [ -96.36869098],\n",
       "        [-116.45454887],\n",
       "        [ -88.51278648],\n",
       "        [-126.36476071],\n",
       "        [-126.2681991 ],\n",
       "        [-118.74282791],\n",
       "        [-112.79142228],\n",
       "        [-123.39216596],\n",
       "        [ -97.96759576],\n",
       "        [-145.66162547],\n",
       "        [-136.66205547],\n",
       "        [-114.14955086],\n",
       "        [ -81.54259549],\n",
       "        [-117.95971736],\n",
       "        [-128.56881688],\n",
       "        [ -77.84185886],\n",
       "        [ -88.26706115],\n",
       "        [ -94.91306388],\n",
       "        [-108.5216048 ],\n",
       "        [ -70.20654618],\n",
       "        [ -79.93773316],\n",
       "        [ -79.77102918],\n",
       "        [ -56.22763155],\n",
       "        [-102.61294276],\n",
       "        [-116.19935599],\n",
       "        [ -66.87393778],\n",
       "        [ -85.7727424 ],\n",
       "        [ -96.03064595],\n",
       "        [-129.41667095],\n",
       "        [ -92.61487332],\n",
       "        [-154.25096697],\n",
       "        [-163.71197541],\n",
       "        [ -64.30323678],\n",
       "        [-126.31886101],\n",
       "        [ -81.00399376],\n",
       "        [ -91.4439919 ],\n",
       "        [-145.74939022],\n",
       "        [ -56.71848501],\n",
       "        [ -81.72252259],\n",
       "        [-101.92094371],\n",
       "        [ -69.49810808],\n",
       "        [ -72.96957591],\n",
       "        [ -69.47086033],\n",
       "        [ -85.79696754],\n",
       "        [ -94.38588888],\n",
       "        [-111.05026538],\n",
       "        [-108.80333978],\n",
       "        [ -97.78861283],\n",
       "        [ -39.55204822],\n",
       "        [ -92.83448379],\n",
       "        [-119.15871305],\n",
       "        [-114.55552956],\n",
       "        [-117.19983311],\n",
       "        [-130.96851747],\n",
       "        [-120.935823  ],\n",
       "        [ -83.20995056],\n",
       "        [-126.12373407],\n",
       "        [-122.36815911],\n",
       "        [ -70.14646919],\n",
       "        [-117.56525809],\n",
       "        [-131.61711257],\n",
       "        [ -99.36911684],\n",
       "        [ -94.07205587],\n",
       "        [-108.96812145],\n",
       "        [-101.78719362],\n",
       "        [-140.97946928],\n",
       "        [ -97.97825577],\n",
       "        [ -96.23197371],\n",
       "        [ -87.75158577],\n",
       "        [-122.8024965 ],\n",
       "        [-136.39451093],\n",
       "        [ -97.17455859],\n",
       "        [ -70.63998204],\n",
       "        [-137.91465799],\n",
       "        [-133.88925446],\n",
       "        [-117.89748331],\n",
       "        [-141.67089686],\n",
       "        [ -60.37654395],\n",
       "        [ -36.85229051],\n",
       "        [ -57.98170216],\n",
       "        [ -47.48191562],\n",
       "        [ -48.35647797],\n",
       "        [ -42.91408053],\n",
       "        [ -23.68281899],\n",
       "        [ -45.87818614],\n",
       "        [ -43.43338735],\n",
       "        [ -46.58333029],\n",
       "        [ -69.29603621],\n",
       "        [ -38.94805458],\n",
       "        [ -58.97683746],\n",
       "        [ -78.66128637],\n",
       "        [ -85.51029202],\n",
       "        [-113.7058566 ],\n",
       "        [ -66.40444804],\n",
       "        [ -71.93390367],\n",
       "        [ -67.20075376],\n",
       "        [ -32.20777615],\n",
       "        [ -36.8373645 ],\n",
       "        [ -70.65558883],\n",
       "        [ -54.35847026],\n",
       "        [ -41.05846144],\n",
       "        [ -31.97217037],\n",
       "        [ -41.42638836],\n",
       "        [ -57.76181973],\n",
       "        [ -71.37135109],\n",
       "        [ -68.79294788],\n",
       "        [ -77.94484748],\n",
       "        [ -52.19434344],\n",
       "        [ -36.9861093 ],\n",
       "        [ -52.64977748],\n",
       "        [ -30.79935259],\n",
       "        [ -33.24379219],\n",
       "        [ -68.84454067],\n",
       "        [ -52.15855493],\n",
       "        [ -48.84638719],\n",
       "        [ -43.04529534],\n",
       "        [ -45.0485632 ],\n",
       "        [ -47.67546619],\n",
       "        [ -30.57830821],\n",
       "        [ -42.95064425],\n",
       "        [ -50.50634983],\n",
       "        [ -78.29326837],\n",
       "        [ -81.50084273],\n",
       "        [ -84.29839799],\n",
       "        [ -60.34045872],\n",
       "        [ -46.37935954],\n",
       "        [ -37.5511806 ],\n",
       "        [ -65.98876774],\n",
       "        [ -53.87755338],\n",
       "        [ -81.85291006],\n",
       "        [ -33.37385925],\n",
       "        [ -25.20984769],\n",
       "        [ -56.25102262],\n",
       "        [ -47.08165484],\n",
       "        [ -46.17242196],\n",
       "        [ -55.35235166],\n",
       "        [ -59.461748  ],\n",
       "        [ -30.59557004],\n",
       "        [ -56.30050907],\n",
       "        [ -44.95048856],\n",
       "        [ -38.60068151],\n",
       "        [ -36.05844523],\n",
       "        [ -37.4267464 ],\n",
       "        [ -69.68505806],\n",
       "        [ -45.83319613],\n",
       "        [ -63.63735411],\n",
       "        [ -34.25744321],\n",
       "        [ -53.94737247],\n",
       "        [ -47.48907128],\n",
       "        [ -67.3416564 ],\n",
       "        [ -54.87963723],\n",
       "        [ -52.30906619],\n",
       "        [ -59.88066306],\n",
       "        [ -69.19466447],\n",
       "        [ -63.90765545],\n",
       "        [ -27.87982749],\n",
       "        [ -83.20096699],\n",
       "        [ -36.19219276],\n",
       "        [ -25.28950401],\n",
       "        [ -51.14829114],\n",
       "        [ -28.84864829],\n",
       "        [ -61.45329156],\n",
       "        [ -40.53507674],\n",
       "        [ -49.09862162],\n",
       "        [ -32.68148347],\n",
       "        [ -42.45248068],\n",
       "        [ -59.36681226],\n",
       "        [ -91.04551457],\n",
       "        [ -48.13376555],\n",
       "        [-102.32059283],\n",
       "        [ -46.7774604 ],\n",
       "        [ -28.4748145 ],\n",
       "        [ -38.12002335],\n",
       "        [ -43.16346625],\n",
       "        [ -47.1723319 ],\n",
       "        [ -59.46915802],\n",
       "        [ -45.45570339],\n",
       "        [ -31.48996307]])"
      ]
     },
     "execution_count": 181,
     "metadata": {},
     "output_type": "execute_result"
    }
   ],
   "source": [
    "Z"
   ]
  },
  {
   "cell_type": "code",
   "execution_count": 173,
   "metadata": {},
   "outputs": [
    {
     "data": {
      "text/plain": [
       "array([3.23531102e+00, 1.19072909e+00, 7.58635384e-01, 4.71003697e-01,\n",
       "       3.24965970e-01, 2.63656303e-16])"
      ]
     },
     "execution_count": 173,
     "metadata": {},
     "output_type": "execute_result"
    }
   ],
   "source": [
    "S"
   ]
  },
  {
   "cell_type": "code",
   "execution_count": 174,
   "metadata": {},
   "outputs": [
    {
     "data": {
      "text/plain": [
       "matrix([[-5.35141704e-01, -3.23584608e-01, -4.57969569e-01,\n",
       "         -4.45905809e-01,  1.43496674e-01, -4.23977530e-01],\n",
       "        [-2.19368199e-03,  5.27545439e-01,  9.28751348e-02,\n",
       "         -3.96157338e-01,  7.27755634e-01,  1.62776864e-01],\n",
       "        [ 9.60691033e-02,  6.48700760e-01, -1.52338410e-01,\n",
       "         -3.60312716e-01, -5.85990593e-01, -2.71184129e-01],\n",
       "        [-1.02798971e-01, -6.44118277e-03, -5.48099706e-01,\n",
       "         -1.27200929e-01, -1.74212977e-01,  8.01528139e-01],\n",
       "        [ 4.23458331e-01,  1.50562387e-01, -6.76770127e-01,\n",
       "          4.31500108e-01,  2.75763131e-01, -2.78852214e-01],\n",
       "        [-7.17289820e-01,  4.16492034e-01,  1.45680949e-11,\n",
       "          5.58596187e-01,  3.44652727e-12, -8.30339696e-12]])"
      ]
     },
     "execution_count": 174,
     "metadata": {},
     "output_type": "execute_result"
    }
   ],
   "source": [
    "V"
   ]
  },
  {
   "cell_type": "code",
   "execution_count": 182,
   "metadata": {},
   "outputs": [],
   "source": [
    "def recover_data(Z, U, K):\n",
    "    U_reduced = U[:, :K]\n",
    "    return np.dot(Z, U_reduced.T)"
   ]
  },
  {
   "cell_type": "code",
   "execution_count": 184,
   "metadata": {},
   "outputs": [
    {
     "data": {
      "text/plain": [
       "matrix([[ 33.68572496,  20.36877714,  28.8279475 ,  28.06856639,\n",
       "          -9.03272808,  26.68824042],\n",
       "        [ 18.22728986,  11.0215115 ,  15.59875454,  15.18785468,\n",
       "          -4.88759417,  14.44096259],\n",
       "        [ 38.01919707,  22.98910157,  32.53649486,  31.6794238 ,\n",
       "         -10.19473589,  30.12152694],\n",
       "        ...,\n",
       "        [ 31.82442656,  19.24330419,  27.23506468,  26.51764303,\n",
       "          -8.53362639,  25.21358671],\n",
       "        [ 24.32524257,  14.70876597,  20.8173289 ,  20.2689622 ,\n",
       "          -6.52274226,  19.27219683],\n",
       "        [ 16.8515925 ,  10.18966736,  14.42144482,  14.04155746,\n",
       "          -4.51870497,  13.35103675]])"
      ]
     },
     "execution_count": 184,
     "metadata": {},
     "output_type": "execute_result"
    }
   ],
   "source": [
    "recover_data(Z, U, 1)"
   ]
  },
  {
   "cell_type": "code",
   "execution_count": null,
   "metadata": {},
   "outputs": [],
   "source": []
  },
  {
   "cell_type": "code",
   "execution_count": null,
   "metadata": {},
   "outputs": [],
   "source": []
  },
  {
   "cell_type": "code",
   "execution_count": null,
   "metadata": {},
   "outputs": [],
   "source": []
  },
  {
   "cell_type": "code",
   "execution_count": null,
   "metadata": {},
   "outputs": [],
   "source": []
  }
 ],
 "metadata": {
  "kernelspec": {
   "display_name": "Python 3",
   "language": "python",
   "name": "python3"
  },
  "language_info": {
   "codemirror_mode": {
    "name": "ipython",
    "version": 3
   },
   "file_extension": ".py",
   "mimetype": "text/x-python",
   "name": "python",
   "nbconvert_exporter": "python",
   "pygments_lexer": "ipython3",
   "version": "3.8.5"
  }
 },
 "nbformat": 4,
 "nbformat_minor": 4
}
