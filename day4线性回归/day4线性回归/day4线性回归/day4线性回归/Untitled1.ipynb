{
 "cells": [
  {
   "cell_type": "markdown",
   "metadata": {},
   "source": [
    "### 机器学习:\n",
    "    如果程序上 任务T能量度P 通过E 提升\n",
    "    1. 监督学习\n",
    "        告诉计算机如何做某件事情\n",
    "        带有标签 预测分类( 指定做什么分类 ())\n",
    "        特征变量(做模型的)  目标变量(预测 分类指标)\n",
    "     \n",
    "     X  y  特征值 目标值 -> 训练集  测试集 -> 数据模型拟合(训练模型)\n",
    "    \n",
    "    2. 无监督学习\n",
    "        程序去自己学习"
   ]
  },
  {
   "attachments": {
    "image.png": {
     "image/png": "[encoded data removed]"
    }
   },
   "cell_type": "markdown",
   "metadata": {},
   "source": [
    "![image.png](attachment:image.png)"
   ]
  },
  {
   "attachments": {
    "image.png": {
     "image/png": "[encoded data removed]"
    }
   },
   "cell_type": "markdown",
   "metadata": {},
   "source": [
    "### 线性回归:\n",
    "    代价函数 h(x) = theta1 + theta2x2 + ........\n",
    "    求出theta (代价函数) 代价越小 拟合出来的方程离真实值越近\n",
    "    有m条数据\n",
    "![image.png](attachment:image.png)\n",
    "代表我们要拟合出来的方程到真实值距离的平方, 平方有可能负数"
   ]
  },
  {
   "cell_type": "code",
   "execution_count": 4,
   "metadata": {},
   "outputs": [],
   "source": [
    "import numpy as np"
   ]
  },
  {
   "cell_type": "code",
   "execution_count": 5,
   "metadata": {},
   "outputs": [],
   "source": [
    "def computerCost(X, y, theta):\n",
    "    m = len(y)\n",
    "    J = 0\n",
    "    J = (np.transpose(X*theta-y)) * (X * theta-y) / (2 * m) # 计算代价J\n",
    "    return J"
   ]
  },
  {
   "attachments": {
    "image.png": {
     "image/png": "[encoded data removed]"
    }
   },
   "cell_type": "markdown",
   "metadata": {},
   "source": [
    "代价函数 对 tehtaj 求偏导 得到:\n",
    "![image.png](attachment:image.png)"
   ]
  },
  {
   "attachments": {
    "image.png": {
     "image/png": "[encoded data removed]"
    }
   },
   "cell_type": "markdown",
   "metadata": {},
   "source": [
    "![image.png](attachment:image.png)"
   ]
  },
  {
   "cell_type": "code",
   "execution_count": null,
   "metadata": {},
   "outputs": [],
   "source": [
    "梯度下降:\n",
    "        "
   ]
  },
  {
   "cell_type": "code",
   "execution_count": 29,
   "metadata": {},
   "outputs": [],
   "source": [
    "def ngradientDescent(X, y, theta, alpha, num_iters):\n",
    "    m = len(y)\n",
    "    n = len(theta)\n",
    "    # 每次迭代计算的theta 矩阵\n",
    "    temp = np.matrix(np.zeros((n, num_iters)))\n",
    "    J_histiry = np.zeros((num_iters, 1)) # 记录每次迭代计算的价值\n",
    "    for i in range(num_iters):\n",
    "        h = np.dot(X, theta) # 计算内积\n",
    "        temp[:, i] = theta - ((alpha/m) * (np.dot(np.transpose(X), h-y)))\n",
    "        theta = temp[:, i]\n",
    "        J_histiry[i] = computerCost(X, y, theta)\n",
    "    return theta, J_histiry"
   ]
  },
  {
   "attachments": {
    "image.png": {
     "image/png": "[encoded data removed]"
    }
   },
   "cell_type": "markdown",
   "metadata": {},
   "source": [
    "![image.png](attachment:image.png)"
   ]
  },
  {
   "cell_type": "markdown",
   "metadata": {},
   "source": [
    "Ui -> 特征的均值\n",
    "Si -> 最大值 - 最小值 (也可以是特征标准差)\n",
    "归一化目的: 使数据缩放到一个范围"
   ]
  },
  {
   "cell_type": "code",
   "execution_count": 18,
   "metadata": {},
   "outputs": [],
   "source": [
    "def featureNormaliza(X):\n",
    "    x_norm = np.array(X)\n",
    "    \n",
    "    mu = np.zeros((1, X.shape[1]))\n",
    "    sigma = np.zeros((1, X.shape[1]))\n",
    "    \n",
    "    mu = np.mean(x_norm, 0) # 均值 0 列 1 行\n",
    "    sigma = np.std(x_norm, 0)\n",
    "    for i in range(X.shape[1]):\n",
    "        x_norm[:, i] = (x_norm[:, i] - mu[i]) / sigma[i] # 归一化\n",
    "    \n",
    "    return x_norm, mu, sigma"
   ]
  },
  {
   "cell_type": "code",
   "execution_count": 10,
   "metadata": {},
   "outputs": [],
   "source": [
    "def loadTxt(fileName, split, dataType):\n",
    "    ''' 加载txt文件 csv文件 '''\n",
    "    return np.loadtxt(fileName, delimiter=split, dtype=dataType)"
   ]
  },
  {
   "cell_type": "code",
   "execution_count": 11,
   "metadata": {},
   "outputs": [],
   "source": [
    "import matplotlib.pyplot as plt"
   ]
  },
  {
   "cell_type": "code",
   "execution_count": 13,
   "metadata": {},
   "outputs": [],
   "source": [
    "def plot_x1_x2(x):\n",
    "    plt.scatter(x[:, 0], x[:, 1])\n",
    "    plt.show()"
   ]
  },
  {
   "cell_type": "code",
   "execution_count": 14,
   "metadata": {},
   "outputs": [],
   "source": [
    "plt.rcParams['font.sans-serif'] = ['Microsoft YaHei']\n",
    "plt.rcParams['axes.unicode_minus'] = False"
   ]
  },
  {
   "cell_type": "code",
   "execution_count": null,
   "metadata": {},
   "outputs": [],
   "source": []
  },
  {
   "cell_type": "code",
   "execution_count": 36,
   "metadata": {},
   "outputs": [],
   "source": [
    "# 每次迭代代价的变化\n",
    "def plotJ(J_history, num_iters):\n",
    "    x = np.arange(1, num_iters+1)\n",
    "    plt.plot(x, J_history)\n",
    "    plt.xlabel('迭代次数')\n",
    "    plt.ylabel('代价值')\n",
    "    plt.show()"
   ]
  },
  {
   "cell_type": "code",
   "execution_count": 39,
   "metadata": {},
   "outputs": [],
   "source": [
    "def LinearRegression(alpha=0.8, num_iters=400):\n",
    "    data = loadTxt('./data.txt', ',', np.float64)  # 读取数据\n",
    "    # x对应0到倒数第二列\n",
    "    X = data[:, 0:-1] # 特征 训练数据\n",
    "    y = data[:, -1] # 目标 原有值 定义  测试数据\n",
    "    m = len(y)\n",
    "    col = data.shape[1]\n",
    "    \n",
    "    X, mu, sigma = featureNormaliza(X) # 归一化\n",
    "    plot_x1_x2(X)\n",
    "    \n",
    "    X = np.hstack((np.ones((m, 1)), X)) # 在x前面加一列\n",
    "    theta = np.zeros((col, 1))\n",
    "    y = y.reshape(-1, 1) # 向量转换成列\n",
    "    print(theta.shape)\n",
    "    print(y.shape)\n",
    "    theta, J_history = ngradientDescent(X, y, theta, alpha, num_iters)\n",
    "    print(J_history.shape, num_iters)\n",
    "    plotJ(J_history, num_iters)\n",
    "    return mu, sigma, theta"
   ]
  },
  {
   "cell_type": "code",
   "execution_count": 47,
   "metadata": {},
   "outputs": [],
   "source": [
    "def perdict(mu, sigma, theta):\n",
    "    result = 0\n",
    "    predict = np.array([1650, 3])\n",
    "    norm_predict = (predict-mu) / sigma\n",
    "    final_predict = np.hstack((np.ones((1)), norm_predict))\n",
    "    \n",
    "    result = np.dot(final_predict, theta)\n",
    "    return result"
   ]
  },
  {
   "cell_type": "code",
   "execution_count": 48,
   "metadata": {},
   "outputs": [],
   "source": [
    "result = perdict(mu, sigma, theta)"
   ]
  },
  {
   "cell_type": "code",
   "execution_count": 49,
   "metadata": {},
   "outputs": [
    {
     "data": {
      "text/plain": [
       "matrix([[293081.4643349]])"
      ]
     },
     "execution_count": 49,
     "metadata": {},
     "output_type": "execute_result"
    }
   ],
   "source": [
    "result"
   ]
  },
  {
   "cell_type": "code",
   "execution_count": null,
   "metadata": {},
   "outputs": [],
   "source": []
  },
  {
   "cell_type": "code",
   "execution_count": 41,
   "metadata": {},
   "outputs": [
    {
     "data": {
      "image/png": "[encoded data removed]",
      "text/plain": [
       "<Figure size 432x288 with 1 Axes>"
      ]
     },
     "metadata": {
      "needs_background": "light"
     },
     "output_type": "display_data"
    },
    {
     "name": "stdout",
     "output_type": "stream",
     "text": [
      "(3, 1)\n",
      "(47, 1)\n",
      "(400, 1) 400\n"
     ]
    },
    {
     "data": {
      "image/png": "[encoded data removed]",
      "text/plain": [
       "<Figure size 432x288 with 1 Axes>"
      ]
     },
     "metadata": {
      "needs_background": "light"
     },
     "output_type": "display_data"
    }
   ],
   "source": [
    "mu, sigma, theta = LinearRegression()"
   ]
  },
  {
   "cell_type": "code",
   "execution_count": null,
   "metadata": {},
   "outputs": [],
   "source": []
  }
 ],
 "metadata": {
  "kernelspec": {
   "display_name": "Python 3 (ipykernel)",
   "language": "python",
   "name": "python3"
  },
  "language_info": {
   "codemirror_mode": {
    "name": "ipython",
    "version": 3
   },
   "file_extension": ".py",
   "mimetype": "text/x-python",
   "name": "python",
   "nbconvert_exporter": "python",
   "pygments_lexer": "ipython3",
   "version": "3.9.7"
  }
 },
 "nbformat": 4,
 "nbformat_minor": 4
}
